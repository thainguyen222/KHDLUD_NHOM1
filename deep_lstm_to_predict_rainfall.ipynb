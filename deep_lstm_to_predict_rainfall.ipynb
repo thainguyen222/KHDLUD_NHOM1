{
  "cells": [
    {
      "cell_type": "markdown",
      "metadata": {
        "id": "view-in-github",
        "colab_type": "text"
      },
      "source": [
        "<a href=\"https://colab.research.google.com/github/thainguyen222/KHDLUD_NHOM1/blob/main/deep_lstm_to_predict_rainfall.ipynb\" target=\"_parent\"><img src=\"https://colab.research.google.com/assets/colab-badge.svg\" alt=\"Open In Colab\"/></a>"
      ]
    },
    {
      "cell_type": "markdown",
      "metadata": {
        "_uuid": "ac30d9d29d899f7442202921c93890144091da36",
        "id": "avcSWgEzLMSU"
      },
      "source": [
        "Forked from https://www.kaggle.com/ilya16/lstm-models?scriptVersionId=10420679 with refactoring, simplification and some changes to the model\n",
        "\n",
        "Data Preprocessing and Deep LSTM model are inspired by the top solution described here: \n",
        "http://simaaron.github.io/Estimating-rainfall-from-weather-radar-readings-using-recurrent-neural-networks/"
      ]
    },
    {
      "cell_type": "code",
      "source": [
        "!rm -rf KHDLUD_NHOM1\n",
        "!git clone https://github.com/thainguyen222/KHDLUD_NHOM1.git\n",
        "!mv KHDLUD_NHOM1 ../input"
      ],
      "metadata": {
        "colab": {
          "base_uri": "https://localhost:8080/"
        },
        "id": "M5D-oIXAhsFs",
        "outputId": "b443a3a6-b944-4938-99a8-196a3183c61e"
      },
      "execution_count": null,
      "outputs": [
        {
          "output_type": "stream",
          "name": "stdout",
          "text": [
            "Cloning into 'KHDLUD_NHOM1'...\n",
            "remote: Enumerating objects: 140, done.\u001b[K\n",
            "remote: Counting objects: 100% (49/49), done.\u001b[K\n",
            "remote: Compressing objects: 100% (48/48), done.\u001b[K\n",
            "remote: Total 140 (delta 18), reused 0 (delta 0), pack-reused 91\u001b[K\n",
            "Receiving objects: 100% (140/140), 21.27 MiB | 6.86 MiB/s, done.\n",
            "Resolving deltas: 100% (50/50), done.\n"
          ]
        }
      ]
    },
    {
      "cell_type": "code",
      "execution_count": null,
      "metadata": {
        "_cell_guid": "b1076dfc-b9ad-4769-8c92-a6c4dae69d19",
        "_uuid": "8f2839f25d086af736a60e9eeb907d3b93b6e0e5",
        "id": "4HhDzsUmLMSg",
        "outputId": "bd3a6ac6-3cf7-4b85-a741-b3f7389cfbb8",
        "colab": {
          "base_uri": "https://localhost:8080/"
        }
      },
      "outputs": [
        {
          "output_type": "stream",
          "name": "stdout",
          "text": [
            "['test.csv', 'README.md', 'train.csv', '.git']\n"
          ]
        }
      ],
      "source": [
        "import numpy as np\n",
        "import pandas as pd\n",
        "\n",
        "import os\n",
        "print(os.listdir(\"../input\"))"
      ]
    },
    {
      "cell_type": "code",
      "execution_count": null,
      "metadata": {
        "_uuid": "188e15d2c52c6abf501f1f3a55a63bd7281f301e",
        "id": "XwPGfTWNLMSs"
      },
      "outputs": [],
      "source": [
        "N_FEATURES = 22\n",
        "\n",
        "# taken from http://simaaron.github.io/Estimating-rainfall-from-weather-radar-readings-using-recurrent-neural-networks/\n",
        "THRESHOLD = 73 "
      ]
    },
    {
      "cell_type": "markdown",
      "metadata": {
        "_uuid": "d56776a079d32c8c8072fed68e810ddbef4a2e31",
        "id": "2w_iWu-4LMSy"
      },
      "source": [
        "# Data preprocessing"
      ]
    },
    {
      "cell_type": "markdown",
      "metadata": {
        "_uuid": "1cb186ee685e813e8b25ff4ece970c6c8b991896",
        "id": "UecO4NsNLMS2"
      },
      "source": [
        "## Training set"
      ]
    },
    {
      "cell_type": "code",
      "execution_count": null,
      "metadata": {
        "_uuid": "0128381de6a5c3121da3e438131ba3097eff9399",
        "id": "Mzjmpa09LMS7"
      },
      "outputs": [],
      "source": [
        "train_df = pd.read_csv(\"../input/train.csv\")"
      ]
    },
    {
      "cell_type": "code",
      "execution_count": null,
      "metadata": {
        "_uuid": "0128381de6a5c3121da3e438131ba3097eff9399",
        "id": "lHVVDN8RLMTA"
      },
      "outputs": [],
      "source": [
        "# to reduce memory consumption\n",
        "train_df[train_df.columns[1:]] = train_df[train_df.columns[1:]].astype(np.float32)"
      ]
    },
    {
      "cell_type": "code",
      "execution_count": null,
      "metadata": {
        "_uuid": "a04f16dcae747fcef2758003659bc0e8c8ba69a9",
        "id": "uPrV959BLMTF",
        "outputId": "2dc55089-7f44-4744-f35d-b116a49ca893",
        "colab": {
          "base_uri": "https://localhost:8080/"
        }
      },
      "outputs": [
        {
          "output_type": "execute_result",
          "data": {
            "text/plain": [
              "(274999, 24)"
            ]
          },
          "metadata": {},
          "execution_count": 6
        }
      ],
      "source": [
        "train_df.shape"
      ]
    },
    {
      "cell_type": "markdown",
      "metadata": {
        "_uuid": "cec887040a3d4eefab0ffa09714e40163f6b3124",
        "id": "wGMR2VrWLMTM"
      },
      "source": [
        "Remove ids with NaNs in `Ref` column for each observation (obeservations, where we have no data from radar)"
      ]
    },
    {
      "cell_type": "code",
      "execution_count": null,
      "metadata": {
        "_uuid": "3442cf49481dba451b8d484bf3240a226bbf4aa2",
        "id": "O4zZjjwjLMTT",
        "outputId": "1f9e659c-334d-4014-b2c9-8041cc4e18b4",
        "colab": {
          "base_uri": "https://localhost:8080/"
        }
      },
      "outputs": [
        {
          "output_type": "execute_result",
          "data": {
            "text/plain": [
              "(182313, 24)"
            ]
          },
          "metadata": {},
          "execution_count": 7
        }
      ],
      "source": [
        "good_ids = set(train_df.loc[train_df['Ref'].notna(), 'Id'])\n",
        "train_df = train_df[train_df['Id'].isin(good_ids)]\n",
        "train_df.shape"
      ]
    },
    {
      "cell_type": "markdown",
      "metadata": {
        "_uuid": "af1557101c6ac14b071d17a1290463a77a8ea01d",
        "id": "vzifUmmKLMTY"
      },
      "source": [
        "Replace NaN values with zeros"
      ]
    },
    {
      "cell_type": "code",
      "execution_count": null,
      "metadata": {
        "_uuid": "52d81776a64916c4736c7264c1867cf78e040bc9",
        "id": "_4EgfBXRLMTd",
        "outputId": "1dd3b8bf-c8e1-48fa-eb02-3b9c103574a2",
        "colab": {
          "base_uri": "https://localhost:8080/",
          "height": 300
        }
      },
      "outputs": [
        {
          "output_type": "execute_result",
          "data": {
            "text/plain": [
              "   Id  minutes_past  radardist_km   Ref  Ref_5x5_10th  Ref_5x5_50th  \\\n",
              "0   2           1.0           2.0   9.0           5.0           7.5   \n",
              "1   2           6.0           2.0  26.5          22.5          25.5   \n",
              "2   2          11.0           2.0  21.5          15.5          20.5   \n",
              "3   2          16.0           2.0  18.0          14.0          17.5   \n",
              "4   2          21.0           2.0  24.5          16.5          21.0   \n",
              "\n",
              "   Ref_5x5_90th  RefComposite  RefComposite_5x5_10th  RefComposite_5x5_50th  \\\n",
              "0          10.5          15.0                   10.5                   16.5   \n",
              "1          31.5          26.5                   26.5                   28.5   \n",
              "2          25.0          26.5                   23.5                   25.0   \n",
              "3          21.0          20.5                   18.0                   20.5   \n",
              "4          24.5          24.5                   21.0                   24.0   \n",
              "\n",
              "   ...  RhoHV_5x5_90th     Zdr  Zdr_5x5_10th  Zdr_5x5_50th  Zdr_5x5_90th  \\\n",
              "0  ...        0.998333  0.3750       -0.1250        0.3125        0.8750   \n",
              "1  ...        1.005000  0.0625       -0.1875        0.2500        0.6875   \n",
              "2  ...        1.001667  0.3125       -0.0625        0.3125        0.6250   \n",
              "3  ...        1.001667  0.2500        0.1250        0.3750        0.6875   \n",
              "4  ...        0.998333  0.2500        0.0625        0.1875        0.5625   \n",
              "\n",
              "        Kdp  Kdp_5x5_10th  Kdp_5x5_50th  Kdp_5x5_90th  Expected  \n",
              "0  1.059998     -1.410004     -0.350006      1.059998  1.016001  \n",
              "1  0.000000      0.000000      0.000000      1.409988  1.016001  \n",
              "2  0.349991      0.000000     -0.350006      1.759995  1.016001  \n",
              "3  0.349991     -1.059998      0.000000      1.059998  1.016001  \n",
              "4 -0.350006     -1.059998     -0.350006      1.759995  1.016001  \n",
              "\n",
              "[5 rows x 24 columns]"
            ],
            "text/html": [
              "\n",
              "  <div id=\"df-2fe133a0-f99a-4265-bacc-af5ad8b533d2\">\n",
              "    <div class=\"colab-df-container\">\n",
              "      <div>\n",
              "<style scoped>\n",
              "    .dataframe tbody tr th:only-of-type {\n",
              "        vertical-align: middle;\n",
              "    }\n",
              "\n",
              "    .dataframe tbody tr th {\n",
              "        vertical-align: top;\n",
              "    }\n",
              "\n",
              "    .dataframe thead th {\n",
              "        text-align: right;\n",
              "    }\n",
              "</style>\n",
              "<table border=\"1\" class=\"dataframe\">\n",
              "  <thead>\n",
              "    <tr style=\"text-align: right;\">\n",
              "      <th></th>\n",
              "      <th>Id</th>\n",
              "      <th>minutes_past</th>\n",
              "      <th>radardist_km</th>\n",
              "      <th>Ref</th>\n",
              "      <th>Ref_5x5_10th</th>\n",
              "      <th>Ref_5x5_50th</th>\n",
              "      <th>Ref_5x5_90th</th>\n",
              "      <th>RefComposite</th>\n",
              "      <th>RefComposite_5x5_10th</th>\n",
              "      <th>RefComposite_5x5_50th</th>\n",
              "      <th>...</th>\n",
              "      <th>RhoHV_5x5_90th</th>\n",
              "      <th>Zdr</th>\n",
              "      <th>Zdr_5x5_10th</th>\n",
              "      <th>Zdr_5x5_50th</th>\n",
              "      <th>Zdr_5x5_90th</th>\n",
              "      <th>Kdp</th>\n",
              "      <th>Kdp_5x5_10th</th>\n",
              "      <th>Kdp_5x5_50th</th>\n",
              "      <th>Kdp_5x5_90th</th>\n",
              "      <th>Expected</th>\n",
              "    </tr>\n",
              "  </thead>\n",
              "  <tbody>\n",
              "    <tr>\n",
              "      <th>0</th>\n",
              "      <td>2</td>\n",
              "      <td>1.0</td>\n",
              "      <td>2.0</td>\n",
              "      <td>9.0</td>\n",
              "      <td>5.0</td>\n",
              "      <td>7.5</td>\n",
              "      <td>10.5</td>\n",
              "      <td>15.0</td>\n",
              "      <td>10.5</td>\n",
              "      <td>16.5</td>\n",
              "      <td>...</td>\n",
              "      <td>0.998333</td>\n",
              "      <td>0.3750</td>\n",
              "      <td>-0.1250</td>\n",
              "      <td>0.3125</td>\n",
              "      <td>0.8750</td>\n",
              "      <td>1.059998</td>\n",
              "      <td>-1.410004</td>\n",
              "      <td>-0.350006</td>\n",
              "      <td>1.059998</td>\n",
              "      <td>1.016001</td>\n",
              "    </tr>\n",
              "    <tr>\n",
              "      <th>1</th>\n",
              "      <td>2</td>\n",
              "      <td>6.0</td>\n",
              "      <td>2.0</td>\n",
              "      <td>26.5</td>\n",
              "      <td>22.5</td>\n",
              "      <td>25.5</td>\n",
              "      <td>31.5</td>\n",
              "      <td>26.5</td>\n",
              "      <td>26.5</td>\n",
              "      <td>28.5</td>\n",
              "      <td>...</td>\n",
              "      <td>1.005000</td>\n",
              "      <td>0.0625</td>\n",
              "      <td>-0.1875</td>\n",
              "      <td>0.2500</td>\n",
              "      <td>0.6875</td>\n",
              "      <td>0.000000</td>\n",
              "      <td>0.000000</td>\n",
              "      <td>0.000000</td>\n",
              "      <td>1.409988</td>\n",
              "      <td>1.016001</td>\n",
              "    </tr>\n",
              "    <tr>\n",
              "      <th>2</th>\n",
              "      <td>2</td>\n",
              "      <td>11.0</td>\n",
              "      <td>2.0</td>\n",
              "      <td>21.5</td>\n",
              "      <td>15.5</td>\n",
              "      <td>20.5</td>\n",
              "      <td>25.0</td>\n",
              "      <td>26.5</td>\n",
              "      <td>23.5</td>\n",
              "      <td>25.0</td>\n",
              "      <td>...</td>\n",
              "      <td>1.001667</td>\n",
              "      <td>0.3125</td>\n",
              "      <td>-0.0625</td>\n",
              "      <td>0.3125</td>\n",
              "      <td>0.6250</td>\n",
              "      <td>0.349991</td>\n",
              "      <td>0.000000</td>\n",
              "      <td>-0.350006</td>\n",
              "      <td>1.759995</td>\n",
              "      <td>1.016001</td>\n",
              "    </tr>\n",
              "    <tr>\n",
              "      <th>3</th>\n",
              "      <td>2</td>\n",
              "      <td>16.0</td>\n",
              "      <td>2.0</td>\n",
              "      <td>18.0</td>\n",
              "      <td>14.0</td>\n",
              "      <td>17.5</td>\n",
              "      <td>21.0</td>\n",
              "      <td>20.5</td>\n",
              "      <td>18.0</td>\n",
              "      <td>20.5</td>\n",
              "      <td>...</td>\n",
              "      <td>1.001667</td>\n",
              "      <td>0.2500</td>\n",
              "      <td>0.1250</td>\n",
              "      <td>0.3750</td>\n",
              "      <td>0.6875</td>\n",
              "      <td>0.349991</td>\n",
              "      <td>-1.059998</td>\n",
              "      <td>0.000000</td>\n",
              "      <td>1.059998</td>\n",
              "      <td>1.016001</td>\n",
              "    </tr>\n",
              "    <tr>\n",
              "      <th>4</th>\n",
              "      <td>2</td>\n",
              "      <td>21.0</td>\n",
              "      <td>2.0</td>\n",
              "      <td>24.5</td>\n",
              "      <td>16.5</td>\n",
              "      <td>21.0</td>\n",
              "      <td>24.5</td>\n",
              "      <td>24.5</td>\n",
              "      <td>21.0</td>\n",
              "      <td>24.0</td>\n",
              "      <td>...</td>\n",
              "      <td>0.998333</td>\n",
              "      <td>0.2500</td>\n",
              "      <td>0.0625</td>\n",
              "      <td>0.1875</td>\n",
              "      <td>0.5625</td>\n",
              "      <td>-0.350006</td>\n",
              "      <td>-1.059998</td>\n",
              "      <td>-0.350006</td>\n",
              "      <td>1.759995</td>\n",
              "      <td>1.016001</td>\n",
              "    </tr>\n",
              "  </tbody>\n",
              "</table>\n",
              "<p>5 rows × 24 columns</p>\n",
              "</div>\n",
              "      <button class=\"colab-df-convert\" onclick=\"convertToInteractive('df-2fe133a0-f99a-4265-bacc-af5ad8b533d2')\"\n",
              "              title=\"Convert this dataframe to an interactive table.\"\n",
              "              style=\"display:none;\">\n",
              "        \n",
              "  <svg xmlns=\"http://www.w3.org/2000/svg\" height=\"24px\"viewBox=\"0 0 24 24\"\n",
              "       width=\"24px\">\n",
              "    <path d=\"M0 0h24v24H0V0z\" fill=\"none\"/>\n",
              "    <path d=\"M18.56 5.44l.94 2.06.94-2.06 2.06-.94-2.06-.94-.94-2.06-.94 2.06-2.06.94zm-11 1L8.5 8.5l.94-2.06 2.06-.94-2.06-.94L8.5 2.5l-.94 2.06-2.06.94zm10 10l.94 2.06.94-2.06 2.06-.94-2.06-.94-.94-2.06-.94 2.06-2.06.94z\"/><path d=\"M17.41 7.96l-1.37-1.37c-.4-.4-.92-.59-1.43-.59-.52 0-1.04.2-1.43.59L10.3 9.45l-7.72 7.72c-.78.78-.78 2.05 0 2.83L4 21.41c.39.39.9.59 1.41.59.51 0 1.02-.2 1.41-.59l7.78-7.78 2.81-2.81c.8-.78.8-2.07 0-2.86zM5.41 20L4 18.59l7.72-7.72 1.47 1.35L5.41 20z\"/>\n",
              "  </svg>\n",
              "      </button>\n",
              "      \n",
              "  <style>\n",
              "    .colab-df-container {\n",
              "      display:flex;\n",
              "      flex-wrap:wrap;\n",
              "      gap: 12px;\n",
              "    }\n",
              "\n",
              "    .colab-df-convert {\n",
              "      background-color: #E8F0FE;\n",
              "      border: none;\n",
              "      border-radius: 50%;\n",
              "      cursor: pointer;\n",
              "      display: none;\n",
              "      fill: #1967D2;\n",
              "      height: 32px;\n",
              "      padding: 0 0 0 0;\n",
              "      width: 32px;\n",
              "    }\n",
              "\n",
              "    .colab-df-convert:hover {\n",
              "      background-color: #E2EBFA;\n",
              "      box-shadow: 0px 1px 2px rgba(60, 64, 67, 0.3), 0px 1px 3px 1px rgba(60, 64, 67, 0.15);\n",
              "      fill: #174EA6;\n",
              "    }\n",
              "\n",
              "    [theme=dark] .colab-df-convert {\n",
              "      background-color: #3B4455;\n",
              "      fill: #D2E3FC;\n",
              "    }\n",
              "\n",
              "    [theme=dark] .colab-df-convert:hover {\n",
              "      background-color: #434B5C;\n",
              "      box-shadow: 0px 1px 3px 1px rgba(0, 0, 0, 0.15);\n",
              "      filter: drop-shadow(0px 1px 2px rgba(0, 0, 0, 0.3));\n",
              "      fill: #FFFFFF;\n",
              "    }\n",
              "  </style>\n",
              "\n",
              "      <script>\n",
              "        const buttonEl =\n",
              "          document.querySelector('#df-2fe133a0-f99a-4265-bacc-af5ad8b533d2 button.colab-df-convert');\n",
              "        buttonEl.style.display =\n",
              "          google.colab.kernel.accessAllowed ? 'block' : 'none';\n",
              "\n",
              "        async function convertToInteractive(key) {\n",
              "          const element = document.querySelector('#df-2fe133a0-f99a-4265-bacc-af5ad8b533d2');\n",
              "          const dataTable =\n",
              "            await google.colab.kernel.invokeFunction('convertToInteractive',\n",
              "                                                     [key], {});\n",
              "          if (!dataTable) return;\n",
              "\n",
              "          const docLinkHtml = 'Like what you see? Visit the ' +\n",
              "            '<a target=\"_blank\" href=https://colab.research.google.com/notebooks/data_table.ipynb>data table notebook</a>'\n",
              "            + ' to learn more about interactive tables.';\n",
              "          element.innerHTML = '';\n",
              "          dataTable['output_type'] = 'display_data';\n",
              "          await google.colab.output.renderOutput(dataTable, element);\n",
              "          const docLink = document.createElement('div');\n",
              "          docLink.innerHTML = docLinkHtml;\n",
              "          element.appendChild(docLink);\n",
              "        }\n",
              "      </script>\n",
              "    </div>\n",
              "  </div>\n",
              "  "
            ]
          },
          "metadata": {},
          "execution_count": 8
        }
      ],
      "source": [
        "train_df.fillna(0.0, inplace=True)\n",
        "train_df.reset_index(drop=True, inplace=True)\n",
        "train_df.head()"
      ]
    },
    {
      "cell_type": "code",
      "execution_count": null,
      "metadata": {
        "_uuid": "eb2e9ee31f0d00e3196d525501a318419b87cd1e",
        "id": "3JU3H-9oLMTi",
        "outputId": "b281611f-34c4-49c3-86fa-367eb0b36191",
        "colab": {
          "base_uri": "https://localhost:8080/"
        }
      },
      "outputs": [
        {
          "output_type": "execute_result",
          "data": {
            "text/plain": [
              "(182313, 24)"
            ]
          },
          "metadata": {},
          "execution_count": 9
        }
      ],
      "source": [
        "train_df.shape"
      ]
    },
    {
      "cell_type": "markdown",
      "metadata": {
        "_uuid": "9f8df8cdcd6aea2a2ac312f06b1b2025ae2edcbf",
        "id": "zG3vos9bLMTk"
      },
      "source": [
        "Define and exclude outliers from training set"
      ]
    },
    {
      "cell_type": "code",
      "execution_count": null,
      "metadata": {
        "_uuid": "db2c9d78a7947516ed683b7a84c6fc72dcb5588a",
        "id": "K5xwxRkvLMTm"
      },
      "outputs": [],
      "source": [
        "train_df = train_df[train_df['Expected'] < THRESHOLD]"
      ]
    },
    {
      "cell_type": "code",
      "execution_count": null,
      "metadata": {
        "_uuid": "83b249db56190791112195896556e875a2671655",
        "id": "93BzV5u7LMTq",
        "outputId": "e0d5a3de-ac99-4f2b-e2e0-fd918f81bfb0",
        "colab": {
          "base_uri": "https://localhost:8080/"
        }
      },
      "outputs": [
        {
          "output_type": "execute_result",
          "data": {
            "text/plain": [
              "(178995, 24)"
            ]
          },
          "metadata": {},
          "execution_count": 11
        }
      ],
      "source": [
        "train_df.shape"
      ]
    },
    {
      "cell_type": "markdown",
      "metadata": {
        "_uuid": "92507551963e045d71f284dc39f46ecc5e3850ea",
        "id": "RU1oxa7WLMTu"
      },
      "source": [
        "### Grouping and padding into sequences"
      ]
    },
    {
      "cell_type": "code",
      "source": [
        "train_groups = train_df.groupby(\"Id\")\n",
        "train_groups.size()"
      ],
      "metadata": {
        "colab": {
          "base_uri": "https://localhost:8080/"
        },
        "id": "xsn83f4Po0BN",
        "outputId": "8f39bf0d-b6ba-4ff7-adb1-92bdaccf70b4"
      },
      "execution_count": null,
      "outputs": [
        {
          "output_type": "execute_result",
          "data": {
            "text/plain": [
              "Id\n",
              "2        12\n",
              "4        13\n",
              "7        15\n",
              "8        12\n",
              "10       12\n",
              "         ..\n",
              "24376    14\n",
              "24379    14\n",
              "24381    11\n",
              "24383    12\n",
              "24385    11\n",
              "Length: 14538, dtype: int64"
            ]
          },
          "metadata": {},
          "execution_count": 13
        }
      ]
    },
    {
      "cell_type": "code",
      "execution_count": null,
      "metadata": {
        "_uuid": "087fda9fa805367bd410865ef660ac4804833e24",
        "id": "IFA2IDdGLMTy"
      },
      "outputs": [],
      "source": [
        "train_groups = train_df.groupby(\"Id\")\n",
        "train_size = len(train_groups)"
      ]
    },
    {
      "cell_type": "code",
      "execution_count": null,
      "metadata": {
        "_uuid": "75c1507c5fc63e0e7b4f5bfc6693a5ec0833b870",
        "id": "amIsHGfnLMT1",
        "outputId": "3fb2e702-0220-4d95-a14c-99aede02ab5f",
        "colab": {
          "base_uri": "https://localhost:8080/"
        }
      },
      "outputs": [
        {
          "output_type": "execute_result",
          "data": {
            "text/plain": [
              "19"
            ]
          },
          "metadata": {},
          "execution_count": 15
        }
      ],
      "source": [
        "MAX_SEQ_LEN = train_groups.size().max()\n",
        "MAX_SEQ_LEN"
      ]
    },
    {
      "cell_type": "code",
      "execution_count": null,
      "metadata": {
        "_uuid": "087fda9fa805367bd410865ef660ac4804833e24",
        "id": "KCoelW-1LMT4",
        "outputId": "8071bcad-8ae8-4639-b43c-f1d75a8a50db",
        "colab": {
          "base_uri": "https://localhost:8080/"
        }
      },
      "outputs": [
        {
          "output_type": "execute_result",
          "data": {
            "text/plain": [
              "((14538, 19, 22), (14538,))"
            ]
          },
          "metadata": {},
          "execution_count": 16
        }
      ],
      "source": [
        "X_train = np.zeros((train_size, MAX_SEQ_LEN, N_FEATURES), dtype=np.float32)\n",
        "y_train = np.zeros(train_size, dtype=np.float32)\n",
        "\n",
        "i = 0\n",
        "for _, group in train_groups:\n",
        "    X = group.values\n",
        "    seq_len = X.shape[0]\n",
        "    X_train[i,:seq_len,:] = X[:,1:23]\n",
        "    y_train[i] = X[0,23]\n",
        "    i += 1\n",
        "    del X\n",
        "    \n",
        "del train_groups\n",
        "X_train.shape, y_train.shape"
      ]
    },
    {
      "cell_type": "markdown",
      "metadata": {
        "_uuid": "5b452d668a2fcdd122733513c3c5789cec1c1747",
        "id": "DbqvwPn5LMT9"
      },
      "source": [
        "## Test set"
      ]
    },
    {
      "cell_type": "code",
      "execution_count": null,
      "metadata": {
        "_uuid": "19d69e1b54bbcbbee5f34956191815372815af44",
        "id": "qpUdk5beLMUA"
      },
      "outputs": [],
      "source": [
        "test_df = pd.read_csv(\"../input/test.csv\")\n",
        "test_df[test_df.columns[1:]] = test_df[test_df.columns[1:]].astype(np.float32)\n",
        "test_ids = test_df['Id'].unique()\n",
        "\n",
        "# Convert all NaNs to zero\n",
        "test_df = test_df.fillna(0.0)\n",
        "test_df = test_df.reset_index(drop=True)"
      ]
    },
    {
      "cell_type": "code",
      "execution_count": null,
      "metadata": {
        "_uuid": "3291ce0840993195bf9f0af65f93a9a4257b1a90",
        "id": "FNeVKWwoLMUD",
        "outputId": "504d7d10-7785-49d1-d654-060ff2a2f41c",
        "colab": {
          "base_uri": "https://localhost:8080/"
        }
      },
      "outputs": [
        {
          "output_type": "execute_result",
          "data": {
            "text/plain": [
              "(14570, 19, 22)"
            ]
          },
          "metadata": {},
          "execution_count": 19
        }
      ],
      "source": [
        "test_groups = test_df.groupby(\"Id\")\n",
        "test_size = len(test_groups)\n",
        "\n",
        "X_test = np.zeros((test_size, MAX_SEQ_LEN, N_FEATURES), dtype=np.float32)\n",
        "\n",
        "i = 0\n",
        "for _, group in test_groups:\n",
        "    X = group.values\n",
        "    seq_len = X.shape[0]\n",
        "    X_test[i,:seq_len,:] = X[:,1:23]\n",
        "    i += 1\n",
        "    del X\n",
        "    \n",
        "del test_groups\n",
        "X_test.shape"
      ]
    },
    {
      "cell_type": "markdown",
      "metadata": {
        "_uuid": "3c31acdddb00a957700f0810c1f511ad7fda3b86",
        "id": "XxSI30HULMUI"
      },
      "source": [
        "# Models"
      ]
    },
    {
      "cell_type": "code",
      "execution_count": null,
      "metadata": {
        "_uuid": "c4e0bcb62f536c8ae9809a706b19b0a37082e790",
        "id": "yE-R3O1xLMUL"
      },
      "outputs": [],
      "source": [
        "from keras.layers import (\n",
        "    Input,\n",
        "    Dense,\n",
        "    LSTM,\n",
        "    AveragePooling1D,\n",
        "    TimeDistributed,\n",
        "    Flatten,\n",
        "    Bidirectional,\n",
        "    Dropout\n",
        ")\n",
        "from keras.models import Model"
      ]
    },
    {
      "cell_type": "code",
      "execution_count": null,
      "metadata": {
        "_uuid": "09716c1155a4c2bf8d2491a2aa6f8e49979a9545",
        "id": "e-vJa7MbLMUP"
      },
      "outputs": [],
      "source": [
        "from keras.callbacks import EarlyStopping, ReduceLROnPlateau\n",
        "early_stopping = EarlyStopping(monitor='val_loss', min_delta=0, patience=5)\n",
        "reduce_lr = ReduceLROnPlateau(monitor='val_loss', factor=0.1, patience=3, min_delta=0.01)"
      ]
    },
    {
      "cell_type": "code",
      "execution_count": null,
      "metadata": {
        "_uuid": "d21af54467e2f5a5cd4311adf994a3d909b22009",
        "id": "_CS4lJX3LMUS"
      },
      "outputs": [],
      "source": [
        "BATCH_SIZE = 1024\n",
        "N_EPOCHS = 30"
      ]
    },
    {
      "cell_type": "markdown",
      "metadata": {
        "_uuid": "d7229a9d177f0e809b54f39845d892b06e604c34",
        "id": "E0d9joxULMUU"
      },
      "source": [
        "## Deep model\n",
        "\n",
        "Deep NN inspired by the top solution"
      ]
    },
    {
      "cell_type": "code",
      "execution_count": null,
      "metadata": {
        "_uuid": "5b2b157e77a47fed40ac72e0d8940f3a330eb08f",
        "id": "_HfVEmw5LMUW"
      },
      "outputs": [],
      "source": [
        "def get_model_deep(shape=(19, 22)):\n",
        "    inp = Input(shape)\n",
        "    x = Dense(16)(inp)\n",
        "    x = Bidirectional(LSTM(64, return_sequences=True))(x)\n",
        "    x = TimeDistributed(Dense(64))(x)\n",
        "    x = Bidirectional(LSTM(128, return_sequences=True))(x)\n",
        "    x = TimeDistributed(Dense(1))(x)\n",
        "    x = AveragePooling1D()(x)\n",
        "    x = Flatten()(x)\n",
        "    x = Dropout(0.5)(x)\n",
        "    x = Dense(1)(x)\n",
        "\n",
        "    model = Model(inp, x)\n",
        "    return model"
      ]
    },
    {
      "cell_type": "code",
      "execution_count": null,
      "metadata": {
        "_uuid": "1f3513444098821f1262b14570995f2cac764e3a",
        "id": "o2LrgVfRLMUa",
        "outputId": "789589cd-c922-4825-a674-8cb5dd7e83bd",
        "colab": {
          "base_uri": "https://localhost:8080/"
        }
      },
      "outputs": [
        {
          "output_type": "stream",
          "name": "stdout",
          "text": [
            "Model: \"model\"\n",
            "_________________________________________________________________\n",
            " Layer (type)                Output Shape              Param #   \n",
            "=================================================================\n",
            " input_1 (InputLayer)        [(None, 19, 22)]          0         \n",
            "                                                                 \n",
            " dense (Dense)               (None, 19, 16)            368       \n",
            "                                                                 \n",
            " bidirectional (Bidirectiona  (None, 19, 128)          41472     \n",
            " l)                                                              \n",
            "                                                                 \n",
            " time_distributed (TimeDistr  (None, 19, 64)           8256      \n",
            " ibuted)                                                         \n",
            "                                                                 \n",
            " bidirectional_1 (Bidirectio  (None, 19, 256)          197632    \n",
            " nal)                                                            \n",
            "                                                                 \n",
            " time_distributed_1 (TimeDis  (None, 19, 1)            257       \n",
            " tributed)                                                       \n",
            "                                                                 \n",
            " average_pooling1d (AverageP  (None, 9, 1)             0         \n",
            " ooling1D)                                                       \n",
            "                                                                 \n",
            " flatten (Flatten)           (None, 9)                 0         \n",
            "                                                                 \n",
            " dropout (Dropout)           (None, 9)                 0         \n",
            "                                                                 \n",
            " dense_3 (Dense)             (None, 1)                 10        \n",
            "                                                                 \n",
            "=================================================================\n",
            "Total params: 247,995\n",
            "Trainable params: 247,995\n",
            "Non-trainable params: 0\n",
            "_________________________________________________________________\n"
          ]
        }
      ],
      "source": [
        "model = get_model_deep((19,22))\n",
        "model.compile(optimizer='adam', loss='mae',)\n",
        "model.summary()"
      ]
    },
    {
      "cell_type": "code",
      "execution_count": null,
      "metadata": {
        "_uuid": "d0ce8aa384b020014c6e954db9c34a3c98cc9997",
        "id": "665GeNv4LMUe",
        "outputId": "d307729d-051c-449a-c7aa-a2a5b5ffbc11",
        "colab": {
          "base_uri": "https://localhost:8080/"
        }
      },
      "outputs": [
        {
          "output_type": "stream",
          "name": "stdout",
          "text": [
            "Epoch 1/30\n",
            "12/12 [==============================] - 20s 931ms/step - loss: 3.1476 - val_loss: 2.2648 - lr: 0.0010\n",
            "Epoch 2/30\n",
            "12/12 [==============================] - 10s 800ms/step - loss: 2.9649 - val_loss: 2.2528 - lr: 0.0010\n",
            "Epoch 3/30\n",
            "12/12 [==============================] - 9s 792ms/step - loss: 2.8800 - val_loss: 2.2882 - lr: 0.0010\n",
            "Epoch 4/30\n",
            "12/12 [==============================] - 10s 873ms/step - loss: 2.8261 - val_loss: 2.2548 - lr: 0.0010\n",
            "Epoch 5/30\n",
            "12/12 [==============================] - 10s 790ms/step - loss: 2.7958 - val_loss: 2.2490 - lr: 0.0010\n",
            "Epoch 6/30\n",
            "12/12 [==============================] - 10s 793ms/step - loss: 2.7340 - val_loss: 2.2479 - lr: 1.0000e-04\n",
            "Epoch 7/30\n",
            "12/12 [==============================] - 10s 795ms/step - loss: 2.7223 - val_loss: 2.2485 - lr: 1.0000e-04\n",
            "Epoch 8/30\n",
            "12/12 [==============================] - 11s 911ms/step - loss: 2.7143 - val_loss: 2.2510 - lr: 1.0000e-04\n",
            "Epoch 9/30\n",
            "12/12 [==============================] - 9s 790ms/step - loss: 2.7168 - val_loss: 2.2514 - lr: 1.0000e-05\n",
            "Epoch 10/30\n",
            "12/12 [==============================] - 9s 792ms/step - loss: 2.7152 - val_loss: 2.2515 - lr: 1.0000e-05\n",
            "Epoch 11/30\n",
            "12/12 [==============================] - 9s 790ms/step - loss: 2.7061 - val_loss: 2.2519 - lr: 1.0000e-05\n"
          ]
        },
        {
          "output_type": "execute_result",
          "data": {
            "text/plain": [
              "<keras.callbacks.History at 0x7f18c6f68c10>"
            ]
          },
          "metadata": {},
          "execution_count": 25
        }
      ],
      "source": [
        "model.fit(X_train, y_train, \n",
        "            batch_size=BATCH_SIZE, epochs=N_EPOCHS, \n",
        "            validation_split=0.2, callbacks=[early_stopping, reduce_lr])"
      ]
    },
    {
      "cell_type": "code",
      "execution_count": null,
      "metadata": {
        "_uuid": "6c0c77a514d93ccb0eb4eda8e7ed483a9cd3c0ff",
        "id": "kiwLAKh9LMUj"
      },
      "outputs": [],
      "source": [
        "y_pred = model.predict(X_test, batch_size=BATCH_SIZE)\n",
        "submission = pd.DataFrame({'Id': test_ids, 'Expected': y_pred.reshape(-1)})\n",
        "submission.to_csv('submission.csv', index=False)"
      ]
    },
    {
      "cell_type": "code",
      "source": [
        ""
      ],
      "metadata": {
        "id": "1JG1c2c_0StS"
      },
      "execution_count": null,
      "outputs": []
    }
  ],
  "metadata": {
    "kernelspec": {
      "display_name": "Python 3",
      "language": "python",
      "name": "python3"
    },
    "language_info": {
      "codemirror_mode": {
        "name": "ipython",
        "version": 3
      },
      "file_extension": ".py",
      "mimetype": "text/x-python",
      "name": "python",
      "nbconvert_exporter": "python",
      "pygments_lexer": "ipython3",
      "version": "3.6.6"
    },
    "colab": {
      "name": "deep-lstm-to-predict-rainfall.ipynb",
      "provenance": [],
      "collapsed_sections": [],
      "include_colab_link": true
    }
  },
  "nbformat": 4,
  "nbformat_minor": 0
}