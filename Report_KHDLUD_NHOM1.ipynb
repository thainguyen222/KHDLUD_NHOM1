{
  "cells": [
    {
      "cell_type": "markdown",
      "metadata": {
        "id": "view-in-github",
        "colab_type": "text"
      },
      "source": [
        "<a href=\"https://colab.research.google.com/github/thainguyen222/KHDLUD_NHOM1/blob/main/Report_KHDLUD_NHOM1.ipynb\" target=\"_parent\"><img src=\"https://colab.research.google.com/assets/colab-badge.svg\" alt=\"Open In Colab\"/></a>"
      ]
    },
    {
      "cell_type": "markdown",
      "metadata": {
        "id": "pk6wgYYFG1bS"
      },
      "source": [
        "# Báo cáo đồ án môn \"Khoa học dữ liệu ứng dụng\"\n",
        "\n"
      ]
    },
    {
      "cell_type": "markdown",
      "source": [
        "## Giới thiệu nhóm "
      ],
      "metadata": {
        "id": "DStxljySi1jg"
      }
    },
    {
      "cell_type": "markdown",
      "metadata": {
        "id": "klnVHLYiLZMz"
      },
      "source": [
        "Nhóm 1:\n",
        "1. 1612571 - Trần Tiến Sỹ - AllenAlexander98\n",
        "2. 1612607 - Nguyễn Quang Thái - thainguyen222\n",
        "3. 18120228\t- Huỳnh Nhựt Quang - huynhnhutquang7\n",
        "\n",
        "Giáo viên hướng dẫn: Trần Trung Kiên \n",
        "\n",
        "Link đề bài: https://www.kaggle.com/c/how-much-did-it-rain-ii\n",
        "\n",
        "Link solution: http://simaaron.github.io/Estimating-rainfall-from-weather-radar-readings-using-recurrent-neural-networks/\n",
        "\n",
        "Link github: https://github.com/thainguyen222/KHDLUD_NHOM1\n",
        "\n",
        "Link phân công: https://docs.google.com/spreadsheets/d/1FguyZ20RIyjhaFmaqdTNhn6xAX--IwD6QrC00v7xmnY/edit#gid=0"
      ]
    },
    {
      "cell_type": "markdown",
      "source": [
        "## Mô tả bài toán "
      ],
      "metadata": {
        "id": "fqNbcThkTZr0"
      }
    },
    {
      "cell_type": "markdown",
      "source": [
        "### Thông Tin Về Cuộc Thi\n"
      ],
      "metadata": {
        "id": "GegR9pFuIi0X"
      }
    },
    {
      "cell_type": "markdown",
      "source": [
        "*   Tên Cuộc Thi: How Much Did It Rain ? II\n",
        "*   Được the Artificial Intelligence Committee of the American Meteorological Society và trao thưởng bởi Climate Corporation với giá trị $500. Cuộc thi có tổng cộng 588 nhóm tham gia."
      ],
      "metadata": {
        "id": "vJuBsHXFs47Y"
      }
    },
    {
      "cell_type": "markdown",
      "source": [
        "### Mô tả bài toán"
      ],
      "metadata": {
        "id": "ugLuVxntXHiq"
      }
    },
    {
      "cell_type": "markdown",
      "source": [
        "**Giới Thiệu Bài Toán**\n",
        "\n",
        "  Bài toán dự đoán về lượng mưa ở các bang trung và tây Mỹ vào tháng tư đến tháng tám năm 2014, dựa vào số liệu ghi lại từ radar phân cực.\n",
        "\n",
        "  Lượng mưa luôn là một hiện tượng thay đổi theo không gian và thời gian, cho nên việc đo lường lượng mưa cũng nổi tiếng là khó khăn để đo chính xác. Đồng hồ đo mưa là một công cụ có thể đo chính xác và hiệu quả, tuy nhiên không dễ dàng để đặt chúng ở khắp mọi nơi. Vì vậy, để bao phủ một phạm vi rộng lớn , người ta dùng đến radar thời tiết để dự báo, tuy nhiên sai lệch giữa dự báo dựa trên radar thời tiết và thực tế thì khá là cao. Gần đây, để cải thiện khả năng dự báo lượng mưa, the U.S National Weather Service đã nâng cấp mạng lưới radar của họ thành các radar phân cực. Điều này tạo nên độ chính xác cao hơn cho việc dự báo lượng mưa.\n",
        "Trong cuộc thi này, người tham gia sẽ nhận được số liệu từ các radar phân cực (22 features), từ đó dự đoán ra tổng lượng mưa theo giờ (tại 1 vị trí ngay 1 thời điểm trong 1 giờ).\n",
        "\n",
        "**Input**\n",
        "\n",
        "Các thông số từ radar phân cực được ghi nhận tại các đồng hồ đo thực tế.\n",
        "\n",
        "**Output**\n",
        "\n",
        "Tổng lượng mưa tại các đồng hồ đo thực tế tại cuối mỗi giờ (tính bằng mm).\n",
        "\n",
        "**Ý Nghĩa**\n",
        "\n",
        "Dùng để kiểm tra lượng mưa tại một vị trí trong một thời điểm bất kỳ dựa vào các thông số từ radar phân cực."
      ],
      "metadata": {
        "id": "IVEQvTk1XKsR"
      }
    },
    {
      "cell_type": "markdown",
      "source": [
        "### Mô tả dữ liệu\n"
      ],
      "metadata": {
        "id": "QxrPUqC5XPWB"
      }
    },
    {
      "cell_type": "markdown",
      "source": [
        "Dữ liệu training đào tạo bao gồm dữ liệu NEXRAD và MADIS thu thập vào 20 ngày giữa tháng Tư và tháng Tám của năm 2014 tại các bang trồng ngô miền trung và tây nước Mỹ. Thông tin về thời gian và địa điểm đã được che đi, và được xáo trộn để chúng không được sắp xếp theo thứ tự thời gian và địa điểm (nhưng vẫn giữ được tính liên tục và thứ tự của dữ liệu trong một giờ thông qua thuộc tính minutes_past). Dữ liệu test gồm dữ liệu từ các radar và máy đo giống nhau trong những ngày còn lại trong tháng.\n",
        "\n",
        "**Training dataset**\n",
        "\n",
        "Các thông số được ghi lại của radar tại các máy đo ở Trung Tây Hoa Kỳ trong 20 ngày mỗi tháng trong mùa trồng ngô (tháng tư đến tháng tám). Ta cũng được cung cấp thông số máy đo vào cuối mỗi giờ. \n",
        "\n",
        "**Test dataset**\n",
        "\n",
        "Tương tự như Training dataset, các thông số được ghi lại của radar tại các máy đo ở Trung Tây Hoa Kỳ trong 10 hoặc 11 ngày còn lại mỗi tháng trong mùa trồng ngô (tháng tư đến tháng tám) tương ứng với Training dataset. Ta cần dự đoán thông số của máy đo lượng mưa tại cuối mỗi giờ (tính bằng mm).\n",
        "\n",
        "**Đánh giá**\n",
        "\n",
        "Ở cuộc thi này, người ta dùng độ đo Mean Absolute Error (MAE).\n"
      ],
      "metadata": {
        "id": "rHkwORRyXU0J"
      }
    },
    {
      "cell_type": "markdown",
      "source": [
        "### Mô tả file "
      ],
      "metadata": {
        "id": "0cCVovqYXgiZ"
      }
    },
    {
      "cell_type": "markdown",
      "source": [
        "Cần chú ý, có nhiều quan sát radar trong suốt một giờ tại một điểm, và chỉ có một quan sát máy đo lượng mưa ở cuối giờ được tính (cột the Expected) được tính. Vì vậy, sẽ có nhiều dòng trùng \"Id\" với nhau\n",
        "\n",
        "Các cột trong dữ liệu:\n",
        "- Id: là số để phân biệt từng bộ quan sát suốt một giờ, tại một máy đo.\n",
        "- minutes_past: đối với một bộ quan sát radar, minutes_past là thời gian mà radar đó đã quan sát tính theo phút từ đầu giờ. \n",
        "- radardist_km: Khoảng cách của máy đo từ radar có các quan sát đang được báo cáo.\n",
        "- Ref:  Hệ số phản xạ của radar tính bằng km.\n",
        "- Ref_5x5_10th: Phần trăm giá trị hệ số phản xạ thứ 10 trong vùng lân cận 5x5 xung quanh thước đo.\n",
        "- Ref_5x5_50th: Phần trăm giá trị hệ số phản xạ thứ 50 trong vùng lân cận 5x5 xung quanh thước đo.\n",
        "- Ref_5x5_90th: Phần trăm giá trị hệ số phản xạ thứ 90 trong vùng lân cận 5x5 xung quanh thước đo.\n",
        "- RefComposite: Hệ số phản xạ tối đa trong cột dọc phía trên thước đo. Tính bằng dBZ.\n",
        "- RefComposite_5x5_10th\n",
        "- RefComposite_5x5_50th\n",
        "- RefComposite_5x5_90th\n",
        "- RhoHV: Hệ số tương quan (không đơn vị) \n",
        "- RhoHV_5x5_10th\n",
        "- RhoHV_5x5_50th\n",
        "- RhoHV_5x5_90th\n",
        "- Zdr: Hệ số phản xạ vi sai tính bằng dB\n",
        "- Zdr_5x5_10th\n",
        "- Zdr_5x5_50th\n",
        "- Zdr_5x5_90th\n",
        "- Kdp: Pha vi sai cụ thể (độ/km)\n",
        "- Kdp_5x5_10th\n",
        "- Kdp_5x5_50th\n",
        "- Kdp_5x5_90th\n",
        "- Expected: (chỉ số ta cần dự đoán) số mm tại đồng hồ đo thực tế quan sát cuối mỗi giờ."
      ],
      "metadata": {
        "id": "VK4H9QPOXieZ"
      }
    },
    {
      "cell_type": "markdown",
      "source": [
        "## Giải quyết bài toán "
      ],
      "metadata": {
        "id": "zQ8qwMzrTnRM"
      }
    },
    {
      "cell_type": "markdown",
      "source": [
        "### Chuẩn bị môi trường \n"
      ],
      "metadata": {
        "id": "3W1s-lOIgoye"
      }
    },
    {
      "cell_type": "markdown",
      "source": [
        "Cài đặt các gói và import các thư viện python cần thiết cho mô hình"
      ],
      "metadata": {
        "id": "-jfD2DE9VWZK"
      }
    },
    {
      "cell_type": "code",
      "source": [
        "!pip install PyDrive > /dev/null"
      ],
      "metadata": {
        "id": "-U7Y-eA3g9DL"
      },
      "execution_count": 1,
      "outputs": []
    },
    {
      "cell_type": "code",
      "source": [
        "import pandas as pd\n",
        "import numpy as np\n",
        "import os\n",
        "from pydrive.auth import GoogleAuth\n",
        "from pydrive.drive import GoogleDrive\n",
        "from google.colab import auth\n",
        "from oauth2client.client import GoogleCredentials"
      ],
      "metadata": {
        "id": "HgkW_erqgueF"
      },
      "execution_count": 2,
      "outputs": []
    },
    {
      "cell_type": "markdown",
      "source": [
        "### Đọc dữ liệu "
      ],
      "metadata": {
        "id": "q0Wh6G6vQ8Qe"
      }
    },
    {
      "cell_type": "markdown",
      "source": [
        "#### Xác thực từ Google Drive"
      ],
      "metadata": {
        "id": "yCj6oXV5fcbn"
      }
    },
    {
      "cell_type": "markdown",
      "source": [
        "Xác thực tài khoàn Google Drive chứa file train và test "
      ],
      "metadata": {
        "id": "7ecIKzb4VyNb"
      }
    },
    {
      "cell_type": "code",
      "source": [
        "auth.authenticate_user()\n",
        "gauth = GoogleAuth()\n",
        "gauth.credentials = GoogleCredentials.get_application_default()\n",
        "drive = GoogleDrive(gauth)"
      ],
      "metadata": {
        "id": "L8Q24h1YC447"
      },
      "execution_count": 3,
      "outputs": []
    },
    {
      "cell_type": "markdown",
      "source": [
        "#### Đọc file train "
      ],
      "metadata": {
        "id": "v6AwU6oifgRF"
      }
    },
    {
      "cell_type": "markdown",
      "source": [
        "Input: file csv\n",
        "\n",
        "Output: dataframe pandas"
      ],
      "metadata": {
        "id": "emVRkRXHWJBU"
      }
    },
    {
      "cell_type": "code",
      "source": [
        "downloaded_train = drive.CreateFile({'id':\"1XKFG6pu76wh8GNcVSAdRoLB8MEtRjXwn\"})   \n",
        "downloaded_train.GetContentFile('train.csv')  "
      ],
      "metadata": {
        "id": "UgL2z-jgEs_j"
      },
      "execution_count": 4,
      "outputs": []
    },
    {
      "cell_type": "code",
      "source": [
        "train_df = pd.read_csv('train.csv')\n",
        "train_df"
      ],
      "metadata": {
        "colab": {
          "base_uri": "https://localhost:8080/",
          "height": 488
        },
        "id": "B9dnFATviJdV",
        "outputId": "9401026f-93ea-487f-c45a-a9ebb4c2231d"
      },
      "execution_count": 5,
      "outputs": [
        {
          "output_type": "execute_result",
          "data": {
            "text/plain": [
              "               Id  minutes_past  radardist_km   Ref  Ref_5x5_10th  \\\n",
              "0               1             3          10.0   NaN           NaN   \n",
              "1               1            16          10.0   NaN           NaN   \n",
              "2               1            25          10.0   NaN           NaN   \n",
              "3               1            35          10.0   NaN           NaN   \n",
              "4               1            45          10.0   NaN           NaN   \n",
              "...           ...           ...           ...   ...           ...   \n",
              "13765196  1180945            38           9.0  33.0          19.5   \n",
              "13765197  1180945            42           9.0  33.0          21.0   \n",
              "13765198  1180945            47           9.0  29.5          10.0   \n",
              "13765199  1180945            52           9.0  19.0           NaN   \n",
              "13765200  1180945            57           9.0   7.5           NaN   \n",
              "\n",
              "          Ref_5x5_50th  Ref_5x5_90th  RefComposite  RefComposite_5x5_10th  \\\n",
              "0                  NaN           NaN           NaN                    NaN   \n",
              "1                  NaN           NaN           NaN                    NaN   \n",
              "2                  NaN           NaN           NaN                    NaN   \n",
              "3                  NaN           NaN           NaN                    NaN   \n",
              "4                  NaN           NaN           NaN                    NaN   \n",
              "...                ...           ...           ...                    ...   \n",
              "13765196          25.5          36.5          33.0                   20.5   \n",
              "13765197          30.5          37.0          36.5                   22.0   \n",
              "13765198          26.0          30.5          31.0                   16.5   \n",
              "13765199          15.5          26.5          19.0                    NaN   \n",
              "13765200          10.0          13.0          14.5                   10.0   \n",
              "\n",
              "          RefComposite_5x5_50th  ...  RhoHV_5x5_90th   Zdr  Zdr_5x5_10th  \\\n",
              "0                           NaN  ...             NaN   NaN           NaN   \n",
              "1                           NaN  ...             NaN   NaN           NaN   \n",
              "2                           NaN  ...             NaN   NaN           NaN   \n",
              "3                           NaN  ...             NaN   NaN           NaN   \n",
              "4                           NaN  ...             NaN   NaN           NaN   \n",
              "...                         ...  ...             ...   ...           ...   \n",
              "13765196                   28.0  ...             NaN   NaN           NaN   \n",
              "13765197                   33.5  ...             NaN   NaN           NaN   \n",
              "13765198                   26.0  ...        1.051667  1.75           NaN   \n",
              "13765199                   16.5  ...        1.051667   NaN           NaN   \n",
              "13765200                   12.5  ...        1.051667  0.00        -1.125   \n",
              "\n",
              "          Zdr_5x5_50th  Zdr_5x5_90th        Kdp  Kdp_5x5_10th  Kdp_5x5_50th  \\\n",
              "0                  NaN           NaN        NaN           NaN           NaN   \n",
              "1                  NaN           NaN        NaN           NaN           NaN   \n",
              "2                  NaN           NaN        NaN           NaN           NaN   \n",
              "3                  NaN           NaN        NaN           NaN           NaN   \n",
              "4                  NaN           NaN        NaN           NaN           NaN   \n",
              "...                ...           ...        ...           ...           ...   \n",
              "13765196           NaN           NaN        NaN           NaN           NaN   \n",
              "13765197           NaN           NaN        NaN           NaN           NaN   \n",
              "13765198         0.750        3.0000  13.379990           NaN           NaN   \n",
              "13765199           NaN        2.8125        NaN           NaN           NaN   \n",
              "13765200         0.375        3.2500   6.069992           NaN     -8.029999   \n",
              "\n",
              "          Kdp_5x5_90th  Expected  \n",
              "0                  NaN  0.254000  \n",
              "1                  NaN  0.254000  \n",
              "2                  NaN  0.254000  \n",
              "3                  NaN  0.254000  \n",
              "4                  NaN  0.254000  \n",
              "...                ...       ...  \n",
              "13765196           NaN  8.636004  \n",
              "13765197           NaN  8.636004  \n",
              "13765198     13.379990  8.636004  \n",
              "13765199           NaN  8.636004  \n",
              "13765200      6.069992  8.636004  \n",
              "\n",
              "[13765201 rows x 24 columns]"
            ],
            "text/html": [
              "\n",
              "  <div id=\"df-30fa3ad7-e259-4fd0-82e6-332c8ea18b56\">\n",
              "    <div class=\"colab-df-container\">\n",
              "      <div>\n",
              "<style scoped>\n",
              "    .dataframe tbody tr th:only-of-type {\n",
              "        vertical-align: middle;\n",
              "    }\n",
              "\n",
              "    .dataframe tbody tr th {\n",
              "        vertical-align: top;\n",
              "    }\n",
              "\n",
              "    .dataframe thead th {\n",
              "        text-align: right;\n",
              "    }\n",
              "</style>\n",
              "<table border=\"1\" class=\"dataframe\">\n",
              "  <thead>\n",
              "    <tr style=\"text-align: right;\">\n",
              "      <th></th>\n",
              "      <th>Id</th>\n",
              "      <th>minutes_past</th>\n",
              "      <th>radardist_km</th>\n",
              "      <th>Ref</th>\n",
              "      <th>Ref_5x5_10th</th>\n",
              "      <th>Ref_5x5_50th</th>\n",
              "      <th>Ref_5x5_90th</th>\n",
              "      <th>RefComposite</th>\n",
              "      <th>RefComposite_5x5_10th</th>\n",
              "      <th>RefComposite_5x5_50th</th>\n",
              "      <th>...</th>\n",
              "      <th>RhoHV_5x5_90th</th>\n",
              "      <th>Zdr</th>\n",
              "      <th>Zdr_5x5_10th</th>\n",
              "      <th>Zdr_5x5_50th</th>\n",
              "      <th>Zdr_5x5_90th</th>\n",
              "      <th>Kdp</th>\n",
              "      <th>Kdp_5x5_10th</th>\n",
              "      <th>Kdp_5x5_50th</th>\n",
              "      <th>Kdp_5x5_90th</th>\n",
              "      <th>Expected</th>\n",
              "    </tr>\n",
              "  </thead>\n",
              "  <tbody>\n",
              "    <tr>\n",
              "      <th>0</th>\n",
              "      <td>1</td>\n",
              "      <td>3</td>\n",
              "      <td>10.0</td>\n",
              "      <td>NaN</td>\n",
              "      <td>NaN</td>\n",
              "      <td>NaN</td>\n",
              "      <td>NaN</td>\n",
              "      <td>NaN</td>\n",
              "      <td>NaN</td>\n",
              "      <td>NaN</td>\n",
              "      <td>...</td>\n",
              "      <td>NaN</td>\n",
              "      <td>NaN</td>\n",
              "      <td>NaN</td>\n",
              "      <td>NaN</td>\n",
              "      <td>NaN</td>\n",
              "      <td>NaN</td>\n",
              "      <td>NaN</td>\n",
              "      <td>NaN</td>\n",
              "      <td>NaN</td>\n",
              "      <td>0.254000</td>\n",
              "    </tr>\n",
              "    <tr>\n",
              "      <th>1</th>\n",
              "      <td>1</td>\n",
              "      <td>16</td>\n",
              "      <td>10.0</td>\n",
              "      <td>NaN</td>\n",
              "      <td>NaN</td>\n",
              "      <td>NaN</td>\n",
              "      <td>NaN</td>\n",
              "      <td>NaN</td>\n",
              "      <td>NaN</td>\n",
              "      <td>NaN</td>\n",
              "      <td>...</td>\n",
              "      <td>NaN</td>\n",
              "      <td>NaN</td>\n",
              "      <td>NaN</td>\n",
              "      <td>NaN</td>\n",
              "      <td>NaN</td>\n",
              "      <td>NaN</td>\n",
              "      <td>NaN</td>\n",
              "      <td>NaN</td>\n",
              "      <td>NaN</td>\n",
              "      <td>0.254000</td>\n",
              "    </tr>\n",
              "    <tr>\n",
              "      <th>2</th>\n",
              "      <td>1</td>\n",
              "      <td>25</td>\n",
              "      <td>10.0</td>\n",
              "      <td>NaN</td>\n",
              "      <td>NaN</td>\n",
              "      <td>NaN</td>\n",
              "      <td>NaN</td>\n",
              "      <td>NaN</td>\n",
              "      <td>NaN</td>\n",
              "      <td>NaN</td>\n",
              "      <td>...</td>\n",
              "      <td>NaN</td>\n",
              "      <td>NaN</td>\n",
              "      <td>NaN</td>\n",
              "      <td>NaN</td>\n",
              "      <td>NaN</td>\n",
              "      <td>NaN</td>\n",
              "      <td>NaN</td>\n",
              "      <td>NaN</td>\n",
              "      <td>NaN</td>\n",
              "      <td>0.254000</td>\n",
              "    </tr>\n",
              "    <tr>\n",
              "      <th>3</th>\n",
              "      <td>1</td>\n",
              "      <td>35</td>\n",
              "      <td>10.0</td>\n",
              "      <td>NaN</td>\n",
              "      <td>NaN</td>\n",
              "      <td>NaN</td>\n",
              "      <td>NaN</td>\n",
              "      <td>NaN</td>\n",
              "      <td>NaN</td>\n",
              "      <td>NaN</td>\n",
              "      <td>...</td>\n",
              "      <td>NaN</td>\n",
              "      <td>NaN</td>\n",
              "      <td>NaN</td>\n",
              "      <td>NaN</td>\n",
              "      <td>NaN</td>\n",
              "      <td>NaN</td>\n",
              "      <td>NaN</td>\n",
              "      <td>NaN</td>\n",
              "      <td>NaN</td>\n",
              "      <td>0.254000</td>\n",
              "    </tr>\n",
              "    <tr>\n",
              "      <th>4</th>\n",
              "      <td>1</td>\n",
              "      <td>45</td>\n",
              "      <td>10.0</td>\n",
              "      <td>NaN</td>\n",
              "      <td>NaN</td>\n",
              "      <td>NaN</td>\n",
              "      <td>NaN</td>\n",
              "      <td>NaN</td>\n",
              "      <td>NaN</td>\n",
              "      <td>NaN</td>\n",
              "      <td>...</td>\n",
              "      <td>NaN</td>\n",
              "      <td>NaN</td>\n",
              "      <td>NaN</td>\n",
              "      <td>NaN</td>\n",
              "      <td>NaN</td>\n",
              "      <td>NaN</td>\n",
              "      <td>NaN</td>\n",
              "      <td>NaN</td>\n",
              "      <td>NaN</td>\n",
              "      <td>0.254000</td>\n",
              "    </tr>\n",
              "    <tr>\n",
              "      <th>...</th>\n",
              "      <td>...</td>\n",
              "      <td>...</td>\n",
              "      <td>...</td>\n",
              "      <td>...</td>\n",
              "      <td>...</td>\n",
              "      <td>...</td>\n",
              "      <td>...</td>\n",
              "      <td>...</td>\n",
              "      <td>...</td>\n",
              "      <td>...</td>\n",
              "      <td>...</td>\n",
              "      <td>...</td>\n",
              "      <td>...</td>\n",
              "      <td>...</td>\n",
              "      <td>...</td>\n",
              "      <td>...</td>\n",
              "      <td>...</td>\n",
              "      <td>...</td>\n",
              "      <td>...</td>\n",
              "      <td>...</td>\n",
              "      <td>...</td>\n",
              "    </tr>\n",
              "    <tr>\n",
              "      <th>13765196</th>\n",
              "      <td>1180945</td>\n",
              "      <td>38</td>\n",
              "      <td>9.0</td>\n",
              "      <td>33.0</td>\n",
              "      <td>19.5</td>\n",
              "      <td>25.5</td>\n",
              "      <td>36.5</td>\n",
              "      <td>33.0</td>\n",
              "      <td>20.5</td>\n",
              "      <td>28.0</td>\n",
              "      <td>...</td>\n",
              "      <td>NaN</td>\n",
              "      <td>NaN</td>\n",
              "      <td>NaN</td>\n",
              "      <td>NaN</td>\n",
              "      <td>NaN</td>\n",
              "      <td>NaN</td>\n",
              "      <td>NaN</td>\n",
              "      <td>NaN</td>\n",
              "      <td>NaN</td>\n",
              "      <td>8.636004</td>\n",
              "    </tr>\n",
              "    <tr>\n",
              "      <th>13765197</th>\n",
              "      <td>1180945</td>\n",
              "      <td>42</td>\n",
              "      <td>9.0</td>\n",
              "      <td>33.0</td>\n",
              "      <td>21.0</td>\n",
              "      <td>30.5</td>\n",
              "      <td>37.0</td>\n",
              "      <td>36.5</td>\n",
              "      <td>22.0</td>\n",
              "      <td>33.5</td>\n",
              "      <td>...</td>\n",
              "      <td>NaN</td>\n",
              "      <td>NaN</td>\n",
              "      <td>NaN</td>\n",
              "      <td>NaN</td>\n",
              "      <td>NaN</td>\n",
              "      <td>NaN</td>\n",
              "      <td>NaN</td>\n",
              "      <td>NaN</td>\n",
              "      <td>NaN</td>\n",
              "      <td>8.636004</td>\n",
              "    </tr>\n",
              "    <tr>\n",
              "      <th>13765198</th>\n",
              "      <td>1180945</td>\n",
              "      <td>47</td>\n",
              "      <td>9.0</td>\n",
              "      <td>29.5</td>\n",
              "      <td>10.0</td>\n",
              "      <td>26.0</td>\n",
              "      <td>30.5</td>\n",
              "      <td>31.0</td>\n",
              "      <td>16.5</td>\n",
              "      <td>26.0</td>\n",
              "      <td>...</td>\n",
              "      <td>1.051667</td>\n",
              "      <td>1.75</td>\n",
              "      <td>NaN</td>\n",
              "      <td>0.750</td>\n",
              "      <td>3.0000</td>\n",
              "      <td>13.379990</td>\n",
              "      <td>NaN</td>\n",
              "      <td>NaN</td>\n",
              "      <td>13.379990</td>\n",
              "      <td>8.636004</td>\n",
              "    </tr>\n",
              "    <tr>\n",
              "      <th>13765199</th>\n",
              "      <td>1180945</td>\n",
              "      <td>52</td>\n",
              "      <td>9.0</td>\n",
              "      <td>19.0</td>\n",
              "      <td>NaN</td>\n",
              "      <td>15.5</td>\n",
              "      <td>26.5</td>\n",
              "      <td>19.0</td>\n",
              "      <td>NaN</td>\n",
              "      <td>16.5</td>\n",
              "      <td>...</td>\n",
              "      <td>1.051667</td>\n",
              "      <td>NaN</td>\n",
              "      <td>NaN</td>\n",
              "      <td>NaN</td>\n",
              "      <td>2.8125</td>\n",
              "      <td>NaN</td>\n",
              "      <td>NaN</td>\n",
              "      <td>NaN</td>\n",
              "      <td>NaN</td>\n",
              "      <td>8.636004</td>\n",
              "    </tr>\n",
              "    <tr>\n",
              "      <th>13765200</th>\n",
              "      <td>1180945</td>\n",
              "      <td>57</td>\n",
              "      <td>9.0</td>\n",
              "      <td>7.5</td>\n",
              "      <td>NaN</td>\n",
              "      <td>10.0</td>\n",
              "      <td>13.0</td>\n",
              "      <td>14.5</td>\n",
              "      <td>10.0</td>\n",
              "      <td>12.5</td>\n",
              "      <td>...</td>\n",
              "      <td>1.051667</td>\n",
              "      <td>0.00</td>\n",
              "      <td>-1.125</td>\n",
              "      <td>0.375</td>\n",
              "      <td>3.2500</td>\n",
              "      <td>6.069992</td>\n",
              "      <td>NaN</td>\n",
              "      <td>-8.029999</td>\n",
              "      <td>6.069992</td>\n",
              "      <td>8.636004</td>\n",
              "    </tr>\n",
              "  </tbody>\n",
              "</table>\n",
              "<p>13765201 rows × 24 columns</p>\n",
              "</div>\n",
              "      <button class=\"colab-df-convert\" onclick=\"convertToInteractive('df-30fa3ad7-e259-4fd0-82e6-332c8ea18b56')\"\n",
              "              title=\"Convert this dataframe to an interactive table.\"\n",
              "              style=\"display:none;\">\n",
              "        \n",
              "  <svg xmlns=\"http://www.w3.org/2000/svg\" height=\"24px\"viewBox=\"0 0 24 24\"\n",
              "       width=\"24px\">\n",
              "    <path d=\"M0 0h24v24H0V0z\" fill=\"none\"/>\n",
              "    <path d=\"M18.56 5.44l.94 2.06.94-2.06 2.06-.94-2.06-.94-.94-2.06-.94 2.06-2.06.94zm-11 1L8.5 8.5l.94-2.06 2.06-.94-2.06-.94L8.5 2.5l-.94 2.06-2.06.94zm10 10l.94 2.06.94-2.06 2.06-.94-2.06-.94-.94-2.06-.94 2.06-2.06.94z\"/><path d=\"M17.41 7.96l-1.37-1.37c-.4-.4-.92-.59-1.43-.59-.52 0-1.04.2-1.43.59L10.3 9.45l-7.72 7.72c-.78.78-.78 2.05 0 2.83L4 21.41c.39.39.9.59 1.41.59.51 0 1.02-.2 1.41-.59l7.78-7.78 2.81-2.81c.8-.78.8-2.07 0-2.86zM5.41 20L4 18.59l7.72-7.72 1.47 1.35L5.41 20z\"/>\n",
              "  </svg>\n",
              "      </button>\n",
              "      \n",
              "  <style>\n",
              "    .colab-df-container {\n",
              "      display:flex;\n",
              "      flex-wrap:wrap;\n",
              "      gap: 12px;\n",
              "    }\n",
              "\n",
              "    .colab-df-convert {\n",
              "      background-color: #E8F0FE;\n",
              "      border: none;\n",
              "      border-radius: 50%;\n",
              "      cursor: pointer;\n",
              "      display: none;\n",
              "      fill: #1967D2;\n",
              "      height: 32px;\n",
              "      padding: 0 0 0 0;\n",
              "      width: 32px;\n",
              "    }\n",
              "\n",
              "    .colab-df-convert:hover {\n",
              "      background-color: #E2EBFA;\n",
              "      box-shadow: 0px 1px 2px rgba(60, 64, 67, 0.3), 0px 1px 3px 1px rgba(60, 64, 67, 0.15);\n",
              "      fill: #174EA6;\n",
              "    }\n",
              "\n",
              "    [theme=dark] .colab-df-convert {\n",
              "      background-color: #3B4455;\n",
              "      fill: #D2E3FC;\n",
              "    }\n",
              "\n",
              "    [theme=dark] .colab-df-convert:hover {\n",
              "      background-color: #434B5C;\n",
              "      box-shadow: 0px 1px 3px 1px rgba(0, 0, 0, 0.15);\n",
              "      filter: drop-shadow(0px 1px 2px rgba(0, 0, 0, 0.3));\n",
              "      fill: #FFFFFF;\n",
              "    }\n",
              "  </style>\n",
              "\n",
              "      <script>\n",
              "        const buttonEl =\n",
              "          document.querySelector('#df-30fa3ad7-e259-4fd0-82e6-332c8ea18b56 button.colab-df-convert');\n",
              "        buttonEl.style.display =\n",
              "          google.colab.kernel.accessAllowed ? 'block' : 'none';\n",
              "\n",
              "        async function convertToInteractive(key) {\n",
              "          const element = document.querySelector('#df-30fa3ad7-e259-4fd0-82e6-332c8ea18b56');\n",
              "          const dataTable =\n",
              "            await google.colab.kernel.invokeFunction('convertToInteractive',\n",
              "                                                     [key], {});\n",
              "          if (!dataTable) return;\n",
              "\n",
              "          const docLinkHtml = 'Like what you see? Visit the ' +\n",
              "            '<a target=\"_blank\" href=https://colab.research.google.com/notebooks/data_table.ipynb>data table notebook</a>'\n",
              "            + ' to learn more about interactive tables.';\n",
              "          element.innerHTML = '';\n",
              "          dataTable['output_type'] = 'display_data';\n",
              "          await google.colab.output.renderOutput(dataTable, element);\n",
              "          const docLink = document.createElement('div');\n",
              "          docLink.innerHTML = docLinkHtml;\n",
              "          element.appendChild(docLink);\n",
              "        }\n",
              "      </script>\n",
              "    </div>\n",
              "  </div>\n",
              "  "
            ]
          },
          "metadata": {},
          "execution_count": 5
        }
      ]
    },
    {
      "cell_type": "markdown",
      "source": [
        "#### Đọc file test "
      ],
      "metadata": {
        "id": "yyExSWj6fnE0"
      }
    },
    {
      "cell_type": "markdown",
      "source": [
        "Input: file csv\n",
        "\n",
        "Output: dataframe pandas"
      ],
      "metadata": {
        "id": "b4SR6bJzWiZ9"
      }
    },
    {
      "cell_type": "code",
      "source": [
        "downloaded_test = drive.CreateFile({'id':\"1JdRKEhpugVN-NL3Sp9yzVTQxYedmQ6r8\"})   \n",
        "downloaded_test.GetContentFile('test.csv') "
      ],
      "metadata": {
        "id": "VKtLXaa2fmch"
      },
      "execution_count": 6,
      "outputs": []
    },
    {
      "cell_type": "code",
      "source": [
        "test_df = pd.read_csv('test.csv')\n",
        "test_df"
      ],
      "metadata": {
        "colab": {
          "base_uri": "https://localhost:8080/",
          "height": 488
        },
        "id": "b8eE_2Ali7qM",
        "outputId": "a4eb468b-5889-4c7d-e25c-ceba22491a8e"
      },
      "execution_count": 7,
      "outputs": [
        {
          "output_type": "execute_result",
          "data": {
            "text/plain": [
              "             Id  minutes_past  radardist_km   Ref  Ref_5x5_10th  Ref_5x5_50th  \\\n",
              "0             1             1           8.0   NaN           NaN           NaN   \n",
              "1             1             5           8.0  10.0           NaN          10.0   \n",
              "2             1             8           8.0   NaN           NaN           7.0   \n",
              "3             1            12           8.0  14.0           NaN           9.0   \n",
              "4             1            15           8.0  10.5           NaN           9.0   \n",
              "...         ...           ...           ...   ...           ...           ...   \n",
              "8022751  717625            40          15.0   NaN           NaN           NaN   \n",
              "8022752  717625            44          15.0   NaN           NaN           NaN   \n",
              "8022753  717625            48          15.0   NaN           NaN           NaN   \n",
              "8022754  717625            52          15.0   NaN           NaN           NaN   \n",
              "8022755  717625            56          15.0   NaN           NaN           NaN   \n",
              "\n",
              "         Ref_5x5_90th  RefComposite  RefComposite_5x5_10th  \\\n",
              "0                14.0           NaN                    NaN   \n",
              "1                18.0          11.5                    NaN   \n",
              "2                14.5           NaN                    NaN   \n",
              "3                16.0          14.0                    NaN   \n",
              "4                15.5          13.5                    NaN   \n",
              "...               ...           ...                    ...   \n",
              "8022751           NaN           NaN                    NaN   \n",
              "8022752           NaN           NaN                    NaN   \n",
              "8022753           NaN           NaN                    NaN   \n",
              "8022754           NaN           NaN                    NaN   \n",
              "8022755           NaN           NaN                    NaN   \n",
              "\n",
              "         RefComposite_5x5_50th  ...  RhoHV_5x5_50th  RhoHV_5x5_90th  Zdr  \\\n",
              "0                          NaN  ...             NaN             NaN  NaN   \n",
              "1                         11.0  ...             NaN             NaN  NaN   \n",
              "2                          7.0  ...             NaN             NaN  NaN   \n",
              "3                          9.0  ...             NaN             NaN  NaN   \n",
              "4                          9.0  ...             NaN             NaN  NaN   \n",
              "...                        ...  ...             ...             ...  ...   \n",
              "8022751                    NaN  ...             NaN             NaN  NaN   \n",
              "8022752                    NaN  ...             NaN             NaN  NaN   \n",
              "8022753                    NaN  ...             NaN             NaN  NaN   \n",
              "8022754                    NaN  ...             NaN             NaN  NaN   \n",
              "8022755                    NaN  ...             NaN             NaN  NaN   \n",
              "\n",
              "         Zdr_5x5_10th  Zdr_5x5_50th  Zdr_5x5_90th  Kdp  Kdp_5x5_10th  \\\n",
              "0                 NaN           NaN           NaN  NaN           NaN   \n",
              "1                 NaN           NaN           NaN  NaN           NaN   \n",
              "2                 NaN           NaN           NaN  NaN           NaN   \n",
              "3                 NaN           NaN           NaN  NaN           NaN   \n",
              "4                 NaN           NaN           NaN  NaN           NaN   \n",
              "...               ...           ...           ...  ...           ...   \n",
              "8022751           NaN           NaN           NaN  NaN           NaN   \n",
              "8022752           NaN           NaN           NaN  NaN           NaN   \n",
              "8022753           NaN           NaN           NaN  NaN           NaN   \n",
              "8022754           NaN           NaN           NaN  NaN           NaN   \n",
              "8022755           NaN           NaN           NaN  NaN           NaN   \n",
              "\n",
              "         Kdp_5x5_50th  Kdp_5x5_90th  \n",
              "0                 NaN           NaN  \n",
              "1                 NaN           NaN  \n",
              "2                 NaN           NaN  \n",
              "3                 NaN           NaN  \n",
              "4                 NaN           NaN  \n",
              "...               ...           ...  \n",
              "8022751           NaN           NaN  \n",
              "8022752           NaN           NaN  \n",
              "8022753           NaN           NaN  \n",
              "8022754           NaN           NaN  \n",
              "8022755           NaN           NaN  \n",
              "\n",
              "[8022756 rows x 23 columns]"
            ],
            "text/html": [
              "\n",
              "  <div id=\"df-b263a077-1cec-4734-8dd8-416047f3f4fe\">\n",
              "    <div class=\"colab-df-container\">\n",
              "      <div>\n",
              "<style scoped>\n",
              "    .dataframe tbody tr th:only-of-type {\n",
              "        vertical-align: middle;\n",
              "    }\n",
              "\n",
              "    .dataframe tbody tr th {\n",
              "        vertical-align: top;\n",
              "    }\n",
              "\n",
              "    .dataframe thead th {\n",
              "        text-align: right;\n",
              "    }\n",
              "</style>\n",
              "<table border=\"1\" class=\"dataframe\">\n",
              "  <thead>\n",
              "    <tr style=\"text-align: right;\">\n",
              "      <th></th>\n",
              "      <th>Id</th>\n",
              "      <th>minutes_past</th>\n",
              "      <th>radardist_km</th>\n",
              "      <th>Ref</th>\n",
              "      <th>Ref_5x5_10th</th>\n",
              "      <th>Ref_5x5_50th</th>\n",
              "      <th>Ref_5x5_90th</th>\n",
              "      <th>RefComposite</th>\n",
              "      <th>RefComposite_5x5_10th</th>\n",
              "      <th>RefComposite_5x5_50th</th>\n",
              "      <th>...</th>\n",
              "      <th>RhoHV_5x5_50th</th>\n",
              "      <th>RhoHV_5x5_90th</th>\n",
              "      <th>Zdr</th>\n",
              "      <th>Zdr_5x5_10th</th>\n",
              "      <th>Zdr_5x5_50th</th>\n",
              "      <th>Zdr_5x5_90th</th>\n",
              "      <th>Kdp</th>\n",
              "      <th>Kdp_5x5_10th</th>\n",
              "      <th>Kdp_5x5_50th</th>\n",
              "      <th>Kdp_5x5_90th</th>\n",
              "    </tr>\n",
              "  </thead>\n",
              "  <tbody>\n",
              "    <tr>\n",
              "      <th>0</th>\n",
              "      <td>1</td>\n",
              "      <td>1</td>\n",
              "      <td>8.0</td>\n",
              "      <td>NaN</td>\n",
              "      <td>NaN</td>\n",
              "      <td>NaN</td>\n",
              "      <td>14.0</td>\n",
              "      <td>NaN</td>\n",
              "      <td>NaN</td>\n",
              "      <td>NaN</td>\n",
              "      <td>...</td>\n",
              "      <td>NaN</td>\n",
              "      <td>NaN</td>\n",
              "      <td>NaN</td>\n",
              "      <td>NaN</td>\n",
              "      <td>NaN</td>\n",
              "      <td>NaN</td>\n",
              "      <td>NaN</td>\n",
              "      <td>NaN</td>\n",
              "      <td>NaN</td>\n",
              "      <td>NaN</td>\n",
              "    </tr>\n",
              "    <tr>\n",
              "      <th>1</th>\n",
              "      <td>1</td>\n",
              "      <td>5</td>\n",
              "      <td>8.0</td>\n",
              "      <td>10.0</td>\n",
              "      <td>NaN</td>\n",
              "      <td>10.0</td>\n",
              "      <td>18.0</td>\n",
              "      <td>11.5</td>\n",
              "      <td>NaN</td>\n",
              "      <td>11.0</td>\n",
              "      <td>...</td>\n",
              "      <td>NaN</td>\n",
              "      <td>NaN</td>\n",
              "      <td>NaN</td>\n",
              "      <td>NaN</td>\n",
              "      <td>NaN</td>\n",
              "      <td>NaN</td>\n",
              "      <td>NaN</td>\n",
              "      <td>NaN</td>\n",
              "      <td>NaN</td>\n",
              "      <td>NaN</td>\n",
              "    </tr>\n",
              "    <tr>\n",
              "      <th>2</th>\n",
              "      <td>1</td>\n",
              "      <td>8</td>\n",
              "      <td>8.0</td>\n",
              "      <td>NaN</td>\n",
              "      <td>NaN</td>\n",
              "      <td>7.0</td>\n",
              "      <td>14.5</td>\n",
              "      <td>NaN</td>\n",
              "      <td>NaN</td>\n",
              "      <td>7.0</td>\n",
              "      <td>...</td>\n",
              "      <td>NaN</td>\n",
              "      <td>NaN</td>\n",
              "      <td>NaN</td>\n",
              "      <td>NaN</td>\n",
              "      <td>NaN</td>\n",
              "      <td>NaN</td>\n",
              "      <td>NaN</td>\n",
              "      <td>NaN</td>\n",
              "      <td>NaN</td>\n",
              "      <td>NaN</td>\n",
              "    </tr>\n",
              "    <tr>\n",
              "      <th>3</th>\n",
              "      <td>1</td>\n",
              "      <td>12</td>\n",
              "      <td>8.0</td>\n",
              "      <td>14.0</td>\n",
              "      <td>NaN</td>\n",
              "      <td>9.0</td>\n",
              "      <td>16.0</td>\n",
              "      <td>14.0</td>\n",
              "      <td>NaN</td>\n",
              "      <td>9.0</td>\n",
              "      <td>...</td>\n",
              "      <td>NaN</td>\n",
              "      <td>NaN</td>\n",
              "      <td>NaN</td>\n",
              "      <td>NaN</td>\n",
              "      <td>NaN</td>\n",
              "      <td>NaN</td>\n",
              "      <td>NaN</td>\n",
              "      <td>NaN</td>\n",
              "      <td>NaN</td>\n",
              "      <td>NaN</td>\n",
              "    </tr>\n",
              "    <tr>\n",
              "      <th>4</th>\n",
              "      <td>1</td>\n",
              "      <td>15</td>\n",
              "      <td>8.0</td>\n",
              "      <td>10.5</td>\n",
              "      <td>NaN</td>\n",
              "      <td>9.0</td>\n",
              "      <td>15.5</td>\n",
              "      <td>13.5</td>\n",
              "      <td>NaN</td>\n",
              "      <td>9.0</td>\n",
              "      <td>...</td>\n",
              "      <td>NaN</td>\n",
              "      <td>NaN</td>\n",
              "      <td>NaN</td>\n",
              "      <td>NaN</td>\n",
              "      <td>NaN</td>\n",
              "      <td>NaN</td>\n",
              "      <td>NaN</td>\n",
              "      <td>NaN</td>\n",
              "      <td>NaN</td>\n",
              "      <td>NaN</td>\n",
              "    </tr>\n",
              "    <tr>\n",
              "      <th>...</th>\n",
              "      <td>...</td>\n",
              "      <td>...</td>\n",
              "      <td>...</td>\n",
              "      <td>...</td>\n",
              "      <td>...</td>\n",
              "      <td>...</td>\n",
              "      <td>...</td>\n",
              "      <td>...</td>\n",
              "      <td>...</td>\n",
              "      <td>...</td>\n",
              "      <td>...</td>\n",
              "      <td>...</td>\n",
              "      <td>...</td>\n",
              "      <td>...</td>\n",
              "      <td>...</td>\n",
              "      <td>...</td>\n",
              "      <td>...</td>\n",
              "      <td>...</td>\n",
              "      <td>...</td>\n",
              "      <td>...</td>\n",
              "      <td>...</td>\n",
              "    </tr>\n",
              "    <tr>\n",
              "      <th>8022751</th>\n",
              "      <td>717625</td>\n",
              "      <td>40</td>\n",
              "      <td>15.0</td>\n",
              "      <td>NaN</td>\n",
              "      <td>NaN</td>\n",
              "      <td>NaN</td>\n",
              "      <td>NaN</td>\n",
              "      <td>NaN</td>\n",
              "      <td>NaN</td>\n",
              "      <td>NaN</td>\n",
              "      <td>...</td>\n",
              "      <td>NaN</td>\n",
              "      <td>NaN</td>\n",
              "      <td>NaN</td>\n",
              "      <td>NaN</td>\n",
              "      <td>NaN</td>\n",
              "      <td>NaN</td>\n",
              "      <td>NaN</td>\n",
              "      <td>NaN</td>\n",
              "      <td>NaN</td>\n",
              "      <td>NaN</td>\n",
              "    </tr>\n",
              "    <tr>\n",
              "      <th>8022752</th>\n",
              "      <td>717625</td>\n",
              "      <td>44</td>\n",
              "      <td>15.0</td>\n",
              "      <td>NaN</td>\n",
              "      <td>NaN</td>\n",
              "      <td>NaN</td>\n",
              "      <td>NaN</td>\n",
              "      <td>NaN</td>\n",
              "      <td>NaN</td>\n",
              "      <td>NaN</td>\n",
              "      <td>...</td>\n",
              "      <td>NaN</td>\n",
              "      <td>NaN</td>\n",
              "      <td>NaN</td>\n",
              "      <td>NaN</td>\n",
              "      <td>NaN</td>\n",
              "      <td>NaN</td>\n",
              "      <td>NaN</td>\n",
              "      <td>NaN</td>\n",
              "      <td>NaN</td>\n",
              "      <td>NaN</td>\n",
              "    </tr>\n",
              "    <tr>\n",
              "      <th>8022753</th>\n",
              "      <td>717625</td>\n",
              "      <td>48</td>\n",
              "      <td>15.0</td>\n",
              "      <td>NaN</td>\n",
              "      <td>NaN</td>\n",
              "      <td>NaN</td>\n",
              "      <td>NaN</td>\n",
              "      <td>NaN</td>\n",
              "      <td>NaN</td>\n",
              "      <td>NaN</td>\n",
              "      <td>...</td>\n",
              "      <td>NaN</td>\n",
              "      <td>NaN</td>\n",
              "      <td>NaN</td>\n",
              "      <td>NaN</td>\n",
              "      <td>NaN</td>\n",
              "      <td>NaN</td>\n",
              "      <td>NaN</td>\n",
              "      <td>NaN</td>\n",
              "      <td>NaN</td>\n",
              "      <td>NaN</td>\n",
              "    </tr>\n",
              "    <tr>\n",
              "      <th>8022754</th>\n",
              "      <td>717625</td>\n",
              "      <td>52</td>\n",
              "      <td>15.0</td>\n",
              "      <td>NaN</td>\n",
              "      <td>NaN</td>\n",
              "      <td>NaN</td>\n",
              "      <td>NaN</td>\n",
              "      <td>NaN</td>\n",
              "      <td>NaN</td>\n",
              "      <td>NaN</td>\n",
              "      <td>...</td>\n",
              "      <td>NaN</td>\n",
              "      <td>NaN</td>\n",
              "      <td>NaN</td>\n",
              "      <td>NaN</td>\n",
              "      <td>NaN</td>\n",
              "      <td>NaN</td>\n",
              "      <td>NaN</td>\n",
              "      <td>NaN</td>\n",
              "      <td>NaN</td>\n",
              "      <td>NaN</td>\n",
              "    </tr>\n",
              "    <tr>\n",
              "      <th>8022755</th>\n",
              "      <td>717625</td>\n",
              "      <td>56</td>\n",
              "      <td>15.0</td>\n",
              "      <td>NaN</td>\n",
              "      <td>NaN</td>\n",
              "      <td>NaN</td>\n",
              "      <td>NaN</td>\n",
              "      <td>NaN</td>\n",
              "      <td>NaN</td>\n",
              "      <td>NaN</td>\n",
              "      <td>...</td>\n",
              "      <td>NaN</td>\n",
              "      <td>NaN</td>\n",
              "      <td>NaN</td>\n",
              "      <td>NaN</td>\n",
              "      <td>NaN</td>\n",
              "      <td>NaN</td>\n",
              "      <td>NaN</td>\n",
              "      <td>NaN</td>\n",
              "      <td>NaN</td>\n",
              "      <td>NaN</td>\n",
              "    </tr>\n",
              "  </tbody>\n",
              "</table>\n",
              "<p>8022756 rows × 23 columns</p>\n",
              "</div>\n",
              "      <button class=\"colab-df-convert\" onclick=\"convertToInteractive('df-b263a077-1cec-4734-8dd8-416047f3f4fe')\"\n",
              "              title=\"Convert this dataframe to an interactive table.\"\n",
              "              style=\"display:none;\">\n",
              "        \n",
              "  <svg xmlns=\"http://www.w3.org/2000/svg\" height=\"24px\"viewBox=\"0 0 24 24\"\n",
              "       width=\"24px\">\n",
              "    <path d=\"M0 0h24v24H0V0z\" fill=\"none\"/>\n",
              "    <path d=\"M18.56 5.44l.94 2.06.94-2.06 2.06-.94-2.06-.94-.94-2.06-.94 2.06-2.06.94zm-11 1L8.5 8.5l.94-2.06 2.06-.94-2.06-.94L8.5 2.5l-.94 2.06-2.06.94zm10 10l.94 2.06.94-2.06 2.06-.94-2.06-.94-.94-2.06-.94 2.06-2.06.94z\"/><path d=\"M17.41 7.96l-1.37-1.37c-.4-.4-.92-.59-1.43-.59-.52 0-1.04.2-1.43.59L10.3 9.45l-7.72 7.72c-.78.78-.78 2.05 0 2.83L4 21.41c.39.39.9.59 1.41.59.51 0 1.02-.2 1.41-.59l7.78-7.78 2.81-2.81c.8-.78.8-2.07 0-2.86zM5.41 20L4 18.59l7.72-7.72 1.47 1.35L5.41 20z\"/>\n",
              "  </svg>\n",
              "      </button>\n",
              "      \n",
              "  <style>\n",
              "    .colab-df-container {\n",
              "      display:flex;\n",
              "      flex-wrap:wrap;\n",
              "      gap: 12px;\n",
              "    }\n",
              "\n",
              "    .colab-df-convert {\n",
              "      background-color: #E8F0FE;\n",
              "      border: none;\n",
              "      border-radius: 50%;\n",
              "      cursor: pointer;\n",
              "      display: none;\n",
              "      fill: #1967D2;\n",
              "      height: 32px;\n",
              "      padding: 0 0 0 0;\n",
              "      width: 32px;\n",
              "    }\n",
              "\n",
              "    .colab-df-convert:hover {\n",
              "      background-color: #E2EBFA;\n",
              "      box-shadow: 0px 1px 2px rgba(60, 64, 67, 0.3), 0px 1px 3px 1px rgba(60, 64, 67, 0.15);\n",
              "      fill: #174EA6;\n",
              "    }\n",
              "\n",
              "    [theme=dark] .colab-df-convert {\n",
              "      background-color: #3B4455;\n",
              "      fill: #D2E3FC;\n",
              "    }\n",
              "\n",
              "    [theme=dark] .colab-df-convert:hover {\n",
              "      background-color: #434B5C;\n",
              "      box-shadow: 0px 1px 3px 1px rgba(0, 0, 0, 0.15);\n",
              "      filter: drop-shadow(0px 1px 2px rgba(0, 0, 0, 0.3));\n",
              "      fill: #FFFFFF;\n",
              "    }\n",
              "  </style>\n",
              "\n",
              "      <script>\n",
              "        const buttonEl =\n",
              "          document.querySelector('#df-b263a077-1cec-4734-8dd8-416047f3f4fe button.colab-df-convert');\n",
              "        buttonEl.style.display =\n",
              "          google.colab.kernel.accessAllowed ? 'block' : 'none';\n",
              "\n",
              "        async function convertToInteractive(key) {\n",
              "          const element = document.querySelector('#df-b263a077-1cec-4734-8dd8-416047f3f4fe');\n",
              "          const dataTable =\n",
              "            await google.colab.kernel.invokeFunction('convertToInteractive',\n",
              "                                                     [key], {});\n",
              "          if (!dataTable) return;\n",
              "\n",
              "          const docLinkHtml = 'Like what you see? Visit the ' +\n",
              "            '<a target=\"_blank\" href=https://colab.research.google.com/notebooks/data_table.ipynb>data table notebook</a>'\n",
              "            + ' to learn more about interactive tables.';\n",
              "          element.innerHTML = '';\n",
              "          dataTable['output_type'] = 'display_data';\n",
              "          await google.colab.output.renderOutput(dataTable, element);\n",
              "          const docLink = document.createElement('div');\n",
              "          docLink.innerHTML = docLinkHtml;\n",
              "          element.appendChild(docLink);\n",
              "        }\n",
              "      </script>\n",
              "    </div>\n",
              "  </div>\n",
              "  "
            ]
          },
          "metadata": {},
          "execution_count": 7
        }
      ]
    },
    {
      "cell_type": "markdown",
      "source": [
        "#### Đặc điểm dữ liệu "
      ],
      "metadata": {
        "id": "axD_bE1Mkl5J"
      }
    },
    {
      "cell_type": "markdown",
      "source": [
        "##### Kích thước file"
      ],
      "metadata": {
        "id": "m7ckPbYsXK0C"
      }
    },
    {
      "cell_type": "code",
      "source": [
        "size_train = os.path.getsize('train.csv') \n",
        "print('Kích thước của file train là:', size_train/1000000, 'Mb')\n",
        "size_test = os.path.getsize('test.csv') \n",
        "print('Kích thước của file test là:', size_test/1000000, 'Mb')\n",
        "print(\"Tỉ lệ kích thước file train/test:\")\n",
        "print(size_train/size_test)"
      ],
      "metadata": {
        "colab": {
          "base_uri": "https://localhost:8080/"
        },
        "id": "XoqJ_oT4ibZx",
        "outputId": "8a3a3266-def4-42cd-f8e9-13b3d880197c"
      },
      "execution_count": 9,
      "outputs": [
        {
          "output_type": "stream",
          "name": "stdout",
          "text": [
            "Kích thước của file train là: 1248.430084 Mb\n",
            "Kích thước của file test là: 648.404519 Mb\n",
            "Tỉ lệ kích thước file train/test:\n",
            "1.9253876976758084\n"
          ]
        }
      ]
    },
    {
      "cell_type": "markdown",
      "source": [
        "##### Số dòng "
      ],
      "metadata": {
        "id": "XM1SI_S9W4hm"
      }
    },
    {
      "cell_type": "code",
      "source": [
        "print(\"Số dòng và cột trong tập train:\")\n",
        "print(train_df.shape)\n",
        "print(\"Số dòng và cột trong tập test:\")\n",
        "print(test_df.shape)\n",
        "print(\"Tỉ lệ dòng train/test:\")\n",
        "print(train_df.shape[0]/test_df.shape[0])"
      ],
      "metadata": {
        "colab": {
          "base_uri": "https://localhost:8080/"
        },
        "id": "CS22hnPxkdq0",
        "outputId": "eab1a844-3678-4f68-8122-74634e38101b"
      },
      "execution_count": 10,
      "outputs": [
        {
          "output_type": "stream",
          "name": "stdout",
          "text": [
            "Số dòng và cột trong tập train:\n",
            "(13765201, 24)\n",
            "Số dòng và cột trong tập test:\n",
            "(8022756, 23)\n",
            "Tỉ lệ dòng train/test:\n",
            "1.7157696183206868\n"
          ]
        }
      ]
    },
    {
      "cell_type": "markdown",
      "source": [
        "##### Số giờ "
      ],
      "metadata": {
        "id": "AwvHZ2CtW-Tx"
      }
    },
    {
      "cell_type": "code",
      "source": [
        "print(\"Số lượng giờ trong tập train\")\n",
        "print(train_df.Id.max())\n",
        "print(\"Số lượng giờ trong tập test\")\n",
        "print(test_df.Id.max())\n",
        "print(\"Tỉ lệ giờ train/test:\")\n",
        "print(train_df.Id.max()/test_df.Id.max())"
      ],
      "metadata": {
        "colab": {
          "base_uri": "https://localhost:8080/"
        },
        "id": "FPf9YaHATf5D",
        "outputId": "b1d52514-7f21-4c69-e81d-0cb84c908fb8"
      },
      "execution_count": 11,
      "outputs": [
        {
          "output_type": "stream",
          "name": "stdout",
          "text": [
            "Số lượng giờ trong tập train\n",
            "1180945\n",
            "Số lượng giờ trong tập test\n",
            "717625\n",
            "Tỉ lệ giờ train/test:\n",
            "1.645629681240202\n"
          ]
        }
      ]
    },
    {
      "cell_type": "markdown",
      "source": [
        "### Tiền xử lí dữ liệu"
      ],
      "metadata": {
        "id": "MC5Od1rx1sNE"
      }
    },
    {
      "cell_type": "markdown",
      "source": [
        "#### Xử lí tập train "
      ],
      "metadata": {
        "id": "UytFrtUnbQ5M"
      }
    },
    {
      "cell_type": "markdown",
      "source": [
        "##### Ép kiểu dữ liệu \n",
        "\n",
        "\n"
      ],
      "metadata": {
        "id": "fcp4L7UzaHUN"
      }
    },
    {
      "cell_type": "markdown",
      "source": [
        "Ép kiểu dataframe để giảm bộ nhớ lưu trữ\n",
        "\n",
        "Input: dataframe\n",
        "\n",
        "Output: dataframe đã được ép kiểu float 32 bit"
      ],
      "metadata": {
        "id": "6VML8eLeh0GP"
      }
    },
    {
      "cell_type": "code",
      "source": [
        "train_df[train_df.columns[1:]] = train_df[train_df.columns[1:]].astype(np.float32)"
      ],
      "metadata": {
        "id": "SnwPFl2O1ysZ"
      },
      "execution_count": 12,
      "outputs": []
    },
    {
      "cell_type": "markdown",
      "source": [
        "##### Cắt bớt dữ liệu \n"
      ],
      "metadata": {
        "id": "KRT7xVinadyb"
      }
    },
    {
      "cell_type": "markdown",
      "source": [
        "Loại bỏ những dòng không có giá trị trong cột Ref\n",
        "\n",
        "Input: dataframe\n",
        "\n",
        "Output: dataframe đã lọc bỏ các dòng có Ref rỗng"
      ],
      "metadata": {
        "id": "7dvELJvdiTzT"
      }
    },
    {
      "cell_type": "code",
      "source": [
        "good_ids = set(train_df.loc[train_df['Ref'].notna(), 'Id'])\n",
        "train_df = train_df[train_df['Id'].isin(good_ids)]\n",
        "print(\"Kích thước dataframe sau khi cắt bớt:\")\n",
        "train_df.shape"
      ],
      "metadata": {
        "colab": {
          "base_uri": "https://localhost:8080/"
        },
        "id": "9RqxG_CD12BX",
        "outputId": "cdb85041-6a85-4f4e-af3b-06d243937aa4"
      },
      "execution_count": 13,
      "outputs": [
        {
          "output_type": "stream",
          "name": "stdout",
          "text": [
            "Kích thước dataframe sau khi cắt bớt:\n"
          ]
        },
        {
          "output_type": "execute_result",
          "data": {
            "text/plain": [
              "(9125329, 24)"
            ]
          },
          "metadata": {},
          "execution_count": 13
        }
      ]
    },
    {
      "cell_type": "markdown",
      "source": [
        "##### Điền chỗ thiễu\n"
      ],
      "metadata": {
        "id": "laBVIEhCarsr"
      }
    },
    {
      "cell_type": "markdown",
      "source": [
        "Điền những chỗ thiếu trong dữ liệu bằng 0 để mô hình có thể xử lí \n",
        "\n",
        "Input: dataframe\n",
        "\n",
        "Output: dataframe đã điền chỗ thiếu "
      ],
      "metadata": {
        "id": "RI3j0EQiidre"
      }
    },
    {
      "cell_type": "code",
      "source": [
        "train_df.fillna(0.0, inplace=True)\n",
        "train_df.reset_index(drop=True, inplace=True)\n",
        "train_df.head()"
      ],
      "metadata": {
        "colab": {
          "base_uri": "https://localhost:8080/",
          "height": 386
        },
        "id": "LjKvR_W-13kb",
        "outputId": "f3dab4a3-bd38-4422-9379-1ad72d75fadb"
      },
      "execution_count": 14,
      "outputs": [
        {
          "output_type": "stream",
          "name": "stderr",
          "text": [
            "/usr/local/lib/python3.7/dist-packages/pandas/core/frame.py:5182: SettingWithCopyWarning: \n",
            "A value is trying to be set on a copy of a slice from a DataFrame\n",
            "\n",
            "See the caveats in the documentation: https://pandas.pydata.org/pandas-docs/stable/user_guide/indexing.html#returning-a-view-versus-a-copy\n",
            "  downcast=downcast,\n"
          ]
        },
        {
          "output_type": "execute_result",
          "data": {
            "text/plain": [
              "   Id  minutes_past  radardist_km   Ref  Ref_5x5_10th  Ref_5x5_50th  \\\n",
              "0   2           1.0           2.0   9.0           5.0           7.5   \n",
              "1   2           6.0           2.0  26.5          22.5          25.5   \n",
              "2   2          11.0           2.0  21.5          15.5          20.5   \n",
              "3   2          16.0           2.0  18.0          14.0          17.5   \n",
              "4   2          21.0           2.0  24.5          16.5          21.0   \n",
              "\n",
              "   Ref_5x5_90th  RefComposite  RefComposite_5x5_10th  RefComposite_5x5_50th  \\\n",
              "0          10.5          15.0                   10.5                   16.5   \n",
              "1          31.5          26.5                   26.5                   28.5   \n",
              "2          25.0          26.5                   23.5                   25.0   \n",
              "3          21.0          20.5                   18.0                   20.5   \n",
              "4          24.5          24.5                   21.0                   24.0   \n",
              "\n",
              "   ...  RhoHV_5x5_90th     Zdr  Zdr_5x5_10th  Zdr_5x5_50th  Zdr_5x5_90th  \\\n",
              "0  ...        0.998333  0.3750       -0.1250        0.3125        0.8750   \n",
              "1  ...        1.005000  0.0625       -0.1875        0.2500        0.6875   \n",
              "2  ...        1.001667  0.3125       -0.0625        0.3125        0.6250   \n",
              "3  ...        1.001667  0.2500        0.1250        0.3750        0.6875   \n",
              "4  ...        0.998333  0.2500        0.0625        0.1875        0.5625   \n",
              "\n",
              "        Kdp  Kdp_5x5_10th  Kdp_5x5_50th  Kdp_5x5_90th  Expected  \n",
              "0  1.059998     -1.410004     -0.350006      1.059998  1.016001  \n",
              "1  0.000000      0.000000      0.000000      1.409988  1.016001  \n",
              "2  0.349991      0.000000     -0.350006      1.759995  1.016001  \n",
              "3  0.349991     -1.059998      0.000000      1.059998  1.016001  \n",
              "4 -0.350006     -1.059998     -0.350006      1.759995  1.016001  \n",
              "\n",
              "[5 rows x 24 columns]"
            ],
            "text/html": [
              "\n",
              "  <div id=\"df-14e3079b-0fcc-4c2d-96bc-8363eeaa0e2c\">\n",
              "    <div class=\"colab-df-container\">\n",
              "      <div>\n",
              "<style scoped>\n",
              "    .dataframe tbody tr th:only-of-type {\n",
              "        vertical-align: middle;\n",
              "    }\n",
              "\n",
              "    .dataframe tbody tr th {\n",
              "        vertical-align: top;\n",
              "    }\n",
              "\n",
              "    .dataframe thead th {\n",
              "        text-align: right;\n",
              "    }\n",
              "</style>\n",
              "<table border=\"1\" class=\"dataframe\">\n",
              "  <thead>\n",
              "    <tr style=\"text-align: right;\">\n",
              "      <th></th>\n",
              "      <th>Id</th>\n",
              "      <th>minutes_past</th>\n",
              "      <th>radardist_km</th>\n",
              "      <th>Ref</th>\n",
              "      <th>Ref_5x5_10th</th>\n",
              "      <th>Ref_5x5_50th</th>\n",
              "      <th>Ref_5x5_90th</th>\n",
              "      <th>RefComposite</th>\n",
              "      <th>RefComposite_5x5_10th</th>\n",
              "      <th>RefComposite_5x5_50th</th>\n",
              "      <th>...</th>\n",
              "      <th>RhoHV_5x5_90th</th>\n",
              "      <th>Zdr</th>\n",
              "      <th>Zdr_5x5_10th</th>\n",
              "      <th>Zdr_5x5_50th</th>\n",
              "      <th>Zdr_5x5_90th</th>\n",
              "      <th>Kdp</th>\n",
              "      <th>Kdp_5x5_10th</th>\n",
              "      <th>Kdp_5x5_50th</th>\n",
              "      <th>Kdp_5x5_90th</th>\n",
              "      <th>Expected</th>\n",
              "    </tr>\n",
              "  </thead>\n",
              "  <tbody>\n",
              "    <tr>\n",
              "      <th>0</th>\n",
              "      <td>2</td>\n",
              "      <td>1.0</td>\n",
              "      <td>2.0</td>\n",
              "      <td>9.0</td>\n",
              "      <td>5.0</td>\n",
              "      <td>7.5</td>\n",
              "      <td>10.5</td>\n",
              "      <td>15.0</td>\n",
              "      <td>10.5</td>\n",
              "      <td>16.5</td>\n",
              "      <td>...</td>\n",
              "      <td>0.998333</td>\n",
              "      <td>0.3750</td>\n",
              "      <td>-0.1250</td>\n",
              "      <td>0.3125</td>\n",
              "      <td>0.8750</td>\n",
              "      <td>1.059998</td>\n",
              "      <td>-1.410004</td>\n",
              "      <td>-0.350006</td>\n",
              "      <td>1.059998</td>\n",
              "      <td>1.016001</td>\n",
              "    </tr>\n",
              "    <tr>\n",
              "      <th>1</th>\n",
              "      <td>2</td>\n",
              "      <td>6.0</td>\n",
              "      <td>2.0</td>\n",
              "      <td>26.5</td>\n",
              "      <td>22.5</td>\n",
              "      <td>25.5</td>\n",
              "      <td>31.5</td>\n",
              "      <td>26.5</td>\n",
              "      <td>26.5</td>\n",
              "      <td>28.5</td>\n",
              "      <td>...</td>\n",
              "      <td>1.005000</td>\n",
              "      <td>0.0625</td>\n",
              "      <td>-0.1875</td>\n",
              "      <td>0.2500</td>\n",
              "      <td>0.6875</td>\n",
              "      <td>0.000000</td>\n",
              "      <td>0.000000</td>\n",
              "      <td>0.000000</td>\n",
              "      <td>1.409988</td>\n",
              "      <td>1.016001</td>\n",
              "    </tr>\n",
              "    <tr>\n",
              "      <th>2</th>\n",
              "      <td>2</td>\n",
              "      <td>11.0</td>\n",
              "      <td>2.0</td>\n",
              "      <td>21.5</td>\n",
              "      <td>15.5</td>\n",
              "      <td>20.5</td>\n",
              "      <td>25.0</td>\n",
              "      <td>26.5</td>\n",
              "      <td>23.5</td>\n",
              "      <td>25.0</td>\n",
              "      <td>...</td>\n",
              "      <td>1.001667</td>\n",
              "      <td>0.3125</td>\n",
              "      <td>-0.0625</td>\n",
              "      <td>0.3125</td>\n",
              "      <td>0.6250</td>\n",
              "      <td>0.349991</td>\n",
              "      <td>0.000000</td>\n",
              "      <td>-0.350006</td>\n",
              "      <td>1.759995</td>\n",
              "      <td>1.016001</td>\n",
              "    </tr>\n",
              "    <tr>\n",
              "      <th>3</th>\n",
              "      <td>2</td>\n",
              "      <td>16.0</td>\n",
              "      <td>2.0</td>\n",
              "      <td>18.0</td>\n",
              "      <td>14.0</td>\n",
              "      <td>17.5</td>\n",
              "      <td>21.0</td>\n",
              "      <td>20.5</td>\n",
              "      <td>18.0</td>\n",
              "      <td>20.5</td>\n",
              "      <td>...</td>\n",
              "      <td>1.001667</td>\n",
              "      <td>0.2500</td>\n",
              "      <td>0.1250</td>\n",
              "      <td>0.3750</td>\n",
              "      <td>0.6875</td>\n",
              "      <td>0.349991</td>\n",
              "      <td>-1.059998</td>\n",
              "      <td>0.000000</td>\n",
              "      <td>1.059998</td>\n",
              "      <td>1.016001</td>\n",
              "    </tr>\n",
              "    <tr>\n",
              "      <th>4</th>\n",
              "      <td>2</td>\n",
              "      <td>21.0</td>\n",
              "      <td>2.0</td>\n",
              "      <td>24.5</td>\n",
              "      <td>16.5</td>\n",
              "      <td>21.0</td>\n",
              "      <td>24.5</td>\n",
              "      <td>24.5</td>\n",
              "      <td>21.0</td>\n",
              "      <td>24.0</td>\n",
              "      <td>...</td>\n",
              "      <td>0.998333</td>\n",
              "      <td>0.2500</td>\n",
              "      <td>0.0625</td>\n",
              "      <td>0.1875</td>\n",
              "      <td>0.5625</td>\n",
              "      <td>-0.350006</td>\n",
              "      <td>-1.059998</td>\n",
              "      <td>-0.350006</td>\n",
              "      <td>1.759995</td>\n",
              "      <td>1.016001</td>\n",
              "    </tr>\n",
              "  </tbody>\n",
              "</table>\n",
              "<p>5 rows × 24 columns</p>\n",
              "</div>\n",
              "      <button class=\"colab-df-convert\" onclick=\"convertToInteractive('df-14e3079b-0fcc-4c2d-96bc-8363eeaa0e2c')\"\n",
              "              title=\"Convert this dataframe to an interactive table.\"\n",
              "              style=\"display:none;\">\n",
              "        \n",
              "  <svg xmlns=\"http://www.w3.org/2000/svg\" height=\"24px\"viewBox=\"0 0 24 24\"\n",
              "       width=\"24px\">\n",
              "    <path d=\"M0 0h24v24H0V0z\" fill=\"none\"/>\n",
              "    <path d=\"M18.56 5.44l.94 2.06.94-2.06 2.06-.94-2.06-.94-.94-2.06-.94 2.06-2.06.94zm-11 1L8.5 8.5l.94-2.06 2.06-.94-2.06-.94L8.5 2.5l-.94 2.06-2.06.94zm10 10l.94 2.06.94-2.06 2.06-.94-2.06-.94-.94-2.06-.94 2.06-2.06.94z\"/><path d=\"M17.41 7.96l-1.37-1.37c-.4-.4-.92-.59-1.43-.59-.52 0-1.04.2-1.43.59L10.3 9.45l-7.72 7.72c-.78.78-.78 2.05 0 2.83L4 21.41c.39.39.9.59 1.41.59.51 0 1.02-.2 1.41-.59l7.78-7.78 2.81-2.81c.8-.78.8-2.07 0-2.86zM5.41 20L4 18.59l7.72-7.72 1.47 1.35L5.41 20z\"/>\n",
              "  </svg>\n",
              "      </button>\n",
              "      \n",
              "  <style>\n",
              "    .colab-df-container {\n",
              "      display:flex;\n",
              "      flex-wrap:wrap;\n",
              "      gap: 12px;\n",
              "    }\n",
              "\n",
              "    .colab-df-convert {\n",
              "      background-color: #E8F0FE;\n",
              "      border: none;\n",
              "      border-radius: 50%;\n",
              "      cursor: pointer;\n",
              "      display: none;\n",
              "      fill: #1967D2;\n",
              "      height: 32px;\n",
              "      padding: 0 0 0 0;\n",
              "      width: 32px;\n",
              "    }\n",
              "\n",
              "    .colab-df-convert:hover {\n",
              "      background-color: #E2EBFA;\n",
              "      box-shadow: 0px 1px 2px rgba(60, 64, 67, 0.3), 0px 1px 3px 1px rgba(60, 64, 67, 0.15);\n",
              "      fill: #174EA6;\n",
              "    }\n",
              "\n",
              "    [theme=dark] .colab-df-convert {\n",
              "      background-color: #3B4455;\n",
              "      fill: #D2E3FC;\n",
              "    }\n",
              "\n",
              "    [theme=dark] .colab-df-convert:hover {\n",
              "      background-color: #434B5C;\n",
              "      box-shadow: 0px 1px 3px 1px rgba(0, 0, 0, 0.15);\n",
              "      filter: drop-shadow(0px 1px 2px rgba(0, 0, 0, 0.3));\n",
              "      fill: #FFFFFF;\n",
              "    }\n",
              "  </style>\n",
              "\n",
              "      <script>\n",
              "        const buttonEl =\n",
              "          document.querySelector('#df-14e3079b-0fcc-4c2d-96bc-8363eeaa0e2c button.colab-df-convert');\n",
              "        buttonEl.style.display =\n",
              "          google.colab.kernel.accessAllowed ? 'block' : 'none';\n",
              "\n",
              "        async function convertToInteractive(key) {\n",
              "          const element = document.querySelector('#df-14e3079b-0fcc-4c2d-96bc-8363eeaa0e2c');\n",
              "          const dataTable =\n",
              "            await google.colab.kernel.invokeFunction('convertToInteractive',\n",
              "                                                     [key], {});\n",
              "          if (!dataTable) return;\n",
              "\n",
              "          const docLinkHtml = 'Like what you see? Visit the ' +\n",
              "            '<a target=\"_blank\" href=https://colab.research.google.com/notebooks/data_table.ipynb>data table notebook</a>'\n",
              "            + ' to learn more about interactive tables.';\n",
              "          element.innerHTML = '';\n",
              "          dataTable['output_type'] = 'display_data';\n",
              "          await google.colab.output.renderOutput(dataTable, element);\n",
              "          const docLink = document.createElement('div');\n",
              "          docLink.innerHTML = docLinkHtml;\n",
              "          element.appendChild(docLink);\n",
              "        }\n",
              "      </script>\n",
              "    </div>\n",
              "  </div>\n",
              "  "
            ]
          },
          "metadata": {},
          "execution_count": 14
        }
      ]
    },
    {
      "cell_type": "markdown",
      "source": [
        "##### Lọc dữ liệu không đáng tin cậy \n"
      ],
      "metadata": {
        "id": "0PgOUKV6dS6s"
      }
    },
    {
      "cell_type": "markdown",
      "source": [
        "Lọc bỏ những giờ đo mà có lượng mưa >= THRESHOLD (điều này rất có thể là do lỗi của máy đo bị kẹt, bị lỗi, ...). Những dữ liệu này có thể ảnh hưởng rất lớn đến kết quả đầu ra. Giá trị THRESHOLD được tác giả chọn sau khi thử qua nhiều giá trị khác nhau.\n",
        "\n",
        "Input: dataframe\n",
        "Output: dataframe sau khi lọc dữ liệu không đáng tin cậy"
      ],
      "metadata": {
        "id": "t_TuLMgiiX3D"
      }
    },
    {
      "cell_type": "code",
      "source": [
        "THRESHOLD = 73 \n",
        "train_df = train_df[train_df['Expected'] < THRESHOLD]\n",
        "print(\"Lượng dữ liệu sau khi lọc: \")\n",
        "train_df.shape"
      ],
      "metadata": {
        "id": "NbdOBrsA16Ti",
        "colab": {
          "base_uri": "https://localhost:8080/"
        },
        "outputId": "360e1223-2ca3-4017-e00c-9f6067c449ef"
      },
      "execution_count": 15,
      "outputs": [
        {
          "output_type": "stream",
          "name": "stdout",
          "text": [
            "Lượng dữ liệu sau khi lọc: \n"
          ]
        },
        {
          "output_type": "execute_result",
          "data": {
            "text/plain": [
              "(8926102, 24)"
            ]
          },
          "metadata": {},
          "execution_count": 15
        }
      ]
    },
    {
      "cell_type": "markdown",
      "source": [
        "##### Chuyển dữ liệu thành matrix"
      ],
      "metadata": {
        "id": "5pUWMZklpQE2"
      }
    },
    {
      "cell_type": "markdown",
      "source": [
        "Tính số lần đo nhiều nhất trong một giờ"
      ],
      "metadata": {
        "id": "7H-7PCC3dWYJ"
      }
    },
    {
      "cell_type": "code",
      "source": [
        "train_groups = train_df.groupby(\"Id\")\n",
        "train_size = len(train_groups)\n",
        "MAX_SEQ_LEN = train_groups.size().max()\n",
        "print(\"Số lần đo nhiều nhất trong một giờ là:\", MAX_SEQ_LEN)"
      ],
      "metadata": {
        "id": "n686bE8C1-1O",
        "colab": {
          "base_uri": "https://localhost:8080/"
        },
        "outputId": "15fcaed2-92ff-4c96-c417-c6657dc950c9"
      },
      "execution_count": 16,
      "outputs": [
        {
          "output_type": "stream",
          "name": "stdout",
          "text": [
            "Số lần đo nhiều nhất trong một giờ là: 19\n"
          ]
        }
      ]
    },
    {
      "cell_type": "markdown",
      "source": [
        "Trong phần này, ta cần gộp các lần đo cùng giờ (id) thành một ma trận với số dòng là MAX_SEQ_LEN=19 và số cột là N_FEATURES=22 để cho vào đầu vào của mạng RNN, phục vụ cho tính xử lí theo chuỗi của mạng này. \n",
        "\n",
        "Mỗi dòng tương đương với một lần đo, những giờ không đủ 19 lần đo được lấp đầy bởi giá trị 0. N_FEATURES=22 là số feature trong tập train bỏ đi cột id và expected."
      ],
      "metadata": {
        "id": "ryFvnL9oqBee"
      }
    },
    {
      "cell_type": "code",
      "source": [
        "N_FEATURES = 22\n",
        "X_train = np.zeros((train_size, MAX_SEQ_LEN, N_FEATURES), dtype=np.float32)\n",
        "y_train = np.zeros(train_size, dtype=np.float32)\n",
        "\n",
        "i = 0\n",
        "for _, group in train_groups:\n",
        "    X = group.values\n",
        "    seq_len = X.shape[0]\n",
        "    X_train[i,:seq_len,:] = X[:,1:23]\n",
        "    y_train[i] = X[0,23]\n",
        "    i += 1\n",
        "    del X\n",
        "    \n",
        "del train_groups"
      ],
      "metadata": {
        "id": "gjJ2ndmh2BHm"
      },
      "execution_count": 17,
      "outputs": []
    },
    {
      "cell_type": "code",
      "source": [
        "print(\"Dữ liệu sau khi chuyển đổi thành ma trận\")\n",
        "X_train.shape, y_train.shape"
      ],
      "metadata": {
        "colab": {
          "base_uri": "https://localhost:8080/"
        },
        "id": "M_WgbYtiqk17",
        "outputId": "ffc89053-1ee6-4963-e559-a2d662d76a2b"
      },
      "execution_count": null,
      "outputs": [
        {
          "output_type": "stream",
          "name": "stdout",
          "text": [
            "Dữ liệu sau khi chuyển đổi thành ma trận\n"
          ]
        },
        {
          "output_type": "execute_result",
          "data": {
            "text/plain": [
              "((714838, 19, 22), (714838,))"
            ]
          },
          "metadata": {},
          "execution_count": 18
        }
      ]
    },
    {
      "cell_type": "markdown",
      "source": [
        "Một ma trận chứa các dòng là các lần đo trong cùng một giờ, đối với các giờ không đủ 19 lần đo, các dòng đó sẽ bằng 0"
      ],
      "metadata": {
        "id": "1HaARaS15Td0"
      }
    },
    {
      "cell_type": "code",
      "source": [
        "X_train[0]"
      ],
      "metadata": {
        "colab": {
          "base_uri": "https://localhost:8080/"
        },
        "id": "viPM0Unf5G5s",
        "outputId": "0f4c9943-47f4-4f24-cfe2-f83ccfb9a26d"
      },
      "execution_count": null,
      "outputs": [
        {
          "output_type": "execute_result",
          "data": {
            "text/plain": [
              "array([[ 1.        ,  2.        ,  9.        ,  5.        ,  7.5       ,\n",
              "        10.5       , 15.        , 10.5       , 16.5       , 23.5       ,\n",
              "         0.99833333,  0.99833333,  0.99833333,  0.99833333,  0.375     ,\n",
              "        -0.125     ,  0.3125    ,  0.875     ,  1.0599976 , -1.4100037 ,\n",
              "        -0.3500061 ,  1.0599976 ],\n",
              "       [ 6.        ,  2.        , 26.5       , 22.5       , 25.5       ,\n",
              "        31.5       , 26.5       , 26.5       , 28.5       , 32.        ,\n",
              "         1.0016667 ,  0.9816667 ,  0.99833333,  1.005     ,  0.0625    ,\n",
              "        -0.1875    ,  0.25      ,  0.6875    ,  0.        ,  0.        ,\n",
              "         0.        ,  1.4099884 ],\n",
              "       [11.        ,  2.        , 21.5       , 15.5       , 20.5       ,\n",
              "        25.        , 26.5       , 23.5       , 25.        , 27.        ,\n",
              "         1.0016667 ,  0.995     ,  0.99833333,  1.0016667 ,  0.3125    ,\n",
              "        -0.0625    ,  0.3125    ,  0.625     ,  0.34999084,  0.        ,\n",
              "        -0.3500061 ,  1.7599945 ],\n",
              "       [16.        ,  2.        , 18.        , 14.        , 17.5       ,\n",
              "        21.        , 20.5       , 18.        , 20.5       , 23.        ,\n",
              "         0.995     ,  0.995     ,  0.99833333,  1.0016667 ,  0.25      ,\n",
              "         0.125     ,  0.375     ,  0.6875    ,  0.34999084, -1.0599976 ,\n",
              "         0.        ,  1.0599976 ],\n",
              "       [21.        ,  2.        , 24.5       , 16.5       , 21.        ,\n",
              "        24.5       , 24.5       , 21.        , 24.        , 28.        ,\n",
              "         0.99833333,  0.995     ,  0.99833333,  0.99833333,  0.25      ,\n",
              "         0.0625    ,  0.1875    ,  0.5625    , -0.3500061 , -1.0599976 ,\n",
              "        -0.3500061 ,  1.7599945 ],\n",
              "       [26.        ,  2.        , 12.        , 12.        , 16.        ,\n",
              "        20.        , 16.5       , 17.        , 19.        , 21.        ,\n",
              "         0.99833333,  0.995     ,  0.99833333,  0.99833333,  0.5625    ,\n",
              "         0.25      ,  0.4375    ,  0.6875    , -1.7600098 , -1.7600098 ,\n",
              "        -0.3500061 ,  0.70999146],\n",
              "       [31.        ,  2.        , 22.5       , 19.        , 22.        ,\n",
              "        25.        , 26.        , 23.5       , 25.5       , 27.5       ,\n",
              "         0.99833333,  0.995     ,  0.99833333,  1.0016667 ,  0.        ,\n",
              "        -0.1875    ,  0.25      ,  0.625     , -1.0599976 , -2.1200104 ,\n",
              "        -0.7100067 ,  0.34999084],\n",
              "       [37.        ,  2.        , 14.        , 14.        , 18.5       ,\n",
              "        21.        , 19.5       , 20.        , 21.        , 23.        ,\n",
              "         0.99833333,  0.9916667 ,  0.99833333,  0.99833333,  0.5       ,\n",
              "         0.1875    ,  0.4375    ,  0.8125    ,  0.        , -1.7600098 ,\n",
              "        -0.3500061 ,  1.0599976 ],\n",
              "       [42.        ,  2.        , 12.        , 11.        , 12.5       ,\n",
              "        17.        , 19.5       , 18.        , 21.        , 23.        ,\n",
              "         0.99833333,  0.995     ,  0.99833333,  0.99833333,  0.625     ,\n",
              "         0.375     ,  0.625     ,  0.875     , -0.3500061 , -0.3500061 ,\n",
              "         0.        ,  0.34999084],\n",
              "       [47.        ,  2.        ,  1.5       ,  3.5       ,  7.        ,\n",
              "        10.5       , 18.        , 16.5       , 18.5       , 21.5       ,\n",
              "         0.99833333,  0.995     ,  0.99833333,  0.99833333,  0.375     ,\n",
              "         0.1875    ,  0.5       ,  0.6875    ,  0.34999084, -2.1100006 ,\n",
              "        -0.3500061 ,  1.0599976 ],\n",
              "       [53.        ,  2.        , 16.        , 14.5       , 18.        ,\n",
              "        23.5       , 28.        , 23.5       , 26.5       , 29.5       ,\n",
              "         0.99833333,  0.9916667 ,  0.99833333,  0.99833333,  0.875     ,\n",
              "         0.625     ,  0.9375    ,  1.375     , -0.3500061 , -1.4100037 ,\n",
              "        -0.3500061 ,  2.119995  ],\n",
              "       [58.        ,  2.        , 22.        , 16.5       , 22.5       ,\n",
              "        26.5       , 31.5       , 26.5       , 29.        , 32.        ,\n",
              "         0.99833333,  0.995     ,  0.99833333,  1.0016667 ,  0.375     ,\n",
              "         0.1875    ,  0.375     ,  0.875     , -1.4100037 ,  0.        ,\n",
              "        -0.3500061 ,  0.69999695],\n",
              "       [ 0.        ,  0.        ,  0.        ,  0.        ,  0.        ,\n",
              "         0.        ,  0.        ,  0.        ,  0.        ,  0.        ,\n",
              "         0.        ,  0.        ,  0.        ,  0.        ,  0.        ,\n",
              "         0.        ,  0.        ,  0.        ,  0.        ,  0.        ,\n",
              "         0.        ,  0.        ],\n",
              "       [ 0.        ,  0.        ,  0.        ,  0.        ,  0.        ,\n",
              "         0.        ,  0.        ,  0.        ,  0.        ,  0.        ,\n",
              "         0.        ,  0.        ,  0.        ,  0.        ,  0.        ,\n",
              "         0.        ,  0.        ,  0.        ,  0.        ,  0.        ,\n",
              "         0.        ,  0.        ],\n",
              "       [ 0.        ,  0.        ,  0.        ,  0.        ,  0.        ,\n",
              "         0.        ,  0.        ,  0.        ,  0.        ,  0.        ,\n",
              "         0.        ,  0.        ,  0.        ,  0.        ,  0.        ,\n",
              "         0.        ,  0.        ,  0.        ,  0.        ,  0.        ,\n",
              "         0.        ,  0.        ],\n",
              "       [ 0.        ,  0.        ,  0.        ,  0.        ,  0.        ,\n",
              "         0.        ,  0.        ,  0.        ,  0.        ,  0.        ,\n",
              "         0.        ,  0.        ,  0.        ,  0.        ,  0.        ,\n",
              "         0.        ,  0.        ,  0.        ,  0.        ,  0.        ,\n",
              "         0.        ,  0.        ],\n",
              "       [ 0.        ,  0.        ,  0.        ,  0.        ,  0.        ,\n",
              "         0.        ,  0.        ,  0.        ,  0.        ,  0.        ,\n",
              "         0.        ,  0.        ,  0.        ,  0.        ,  0.        ,\n",
              "         0.        ,  0.        ,  0.        ,  0.        ,  0.        ,\n",
              "         0.        ,  0.        ],\n",
              "       [ 0.        ,  0.        ,  0.        ,  0.        ,  0.        ,\n",
              "         0.        ,  0.        ,  0.        ,  0.        ,  0.        ,\n",
              "         0.        ,  0.        ,  0.        ,  0.        ,  0.        ,\n",
              "         0.        ,  0.        ,  0.        ,  0.        ,  0.        ,\n",
              "         0.        ,  0.        ],\n",
              "       [ 0.        ,  0.        ,  0.        ,  0.        ,  0.        ,\n",
              "         0.        ,  0.        ,  0.        ,  0.        ,  0.        ,\n",
              "         0.        ,  0.        ,  0.        ,  0.        ,  0.        ,\n",
              "         0.        ,  0.        ,  0.        ,  0.        ,  0.        ,\n",
              "         0.        ,  0.        ]], dtype=float32)"
            ]
          },
          "metadata": {},
          "execution_count": 24
        }
      ]
    },
    {
      "cell_type": "markdown",
      "source": [
        "#### Xử lí tập test"
      ],
      "metadata": {
        "id": "sRZmVfQ62EiS"
      }
    },
    {
      "cell_type": "markdown",
      "source": [
        "##### Ép kiểu dữ liệu  "
      ],
      "metadata": {
        "id": "05lSI328dopG"
      }
    },
    {
      "cell_type": "code",
      "source": [
        "test_df[test_df.columns[1:]] = test_df[test_df.columns[1:]].astype(np.float32)"
      ],
      "metadata": {
        "id": "6diapebiq1TM"
      },
      "execution_count": null,
      "outputs": []
    },
    {
      "cell_type": "markdown",
      "source": [
        "##### Điền chỗ thiễu "
      ],
      "metadata": {
        "id": "YvPr4U5UrIZQ"
      }
    },
    {
      "cell_type": "code",
      "source": [
        "test_ids = test_df['Id'].unique()\n",
        "test_df = test_df.fillna(0.0)\n",
        "test_df = test_df.reset_index(drop=True)"
      ],
      "metadata": {
        "id": "G6fK8x2R2Cln"
      },
      "execution_count": null,
      "outputs": []
    },
    {
      "cell_type": "markdown",
      "source": [
        "##### Chuyển dữ liệu thành matrix"
      ],
      "metadata": {
        "id": "VfDrP4-8q9Z6"
      }
    },
    {
      "cell_type": "code",
      "source": [
        "test_groups = test_df.groupby(\"Id\")\n",
        "test_size = len(test_groups)\n",
        "\n",
        "X_test = np.zeros((test_size, MAX_SEQ_LEN, N_FEATURES), dtype=np.float32)\n",
        "\n",
        "i = 0\n",
        "for _, group in test_groups:\n",
        "    X = group.values\n",
        "    seq_len = X.shape[0]\n",
        "    X_test[i,:seq_len,:] = X[:,1:23]\n",
        "    i += 1\n",
        "    del X\n",
        "    \n",
        "del test_groups"
      ],
      "metadata": {
        "id": "HXuqTftM2GQn"
      },
      "execution_count": null,
      "outputs": []
    },
    {
      "cell_type": "code",
      "source": [
        "print(\"Dữ liệu sau khi chuyển đổi thành ma trận\")\n",
        "X_test.shape"
      ],
      "metadata": {
        "colab": {
          "base_uri": "https://localhost:8080/"
        },
        "id": "ESg6FDv5rC13",
        "outputId": "27a33a2f-e5fe-433b-fca4-b46f34b8274c"
      },
      "execution_count": null,
      "outputs": [
        {
          "output_type": "stream",
          "name": "stdout",
          "text": [
            "Dữ liệu sau khi chuyển đổi thành ma trận\n"
          ]
        },
        {
          "output_type": "execute_result",
          "data": {
            "text/plain": [
              "(717625, 19, 22)"
            ]
          },
          "metadata": {},
          "execution_count": 22
        }
      ]
    },
    {
      "cell_type": "markdown",
      "source": [
        "Sau khi chuyển sang ma trận, xóa bỏ data cũ"
      ],
      "metadata": {
        "id": "N4pEeJGD11KQ"
      }
    },
    {
      "cell_type": "code",
      "source": [
        "del train_df\n",
        "del test_df"
      ],
      "metadata": {
        "id": "XYNXAVb7eLli"
      },
      "execution_count": null,
      "outputs": []
    },
    {
      "cell_type": "markdown",
      "source": [
        "### Mô hình áp dụng "
      ],
      "metadata": {
        "id": "o6Ifn8_s2IPc"
      }
    },
    {
      "cell_type": "markdown",
      "source": [
        "#### Quá trình phát triển mô hình RNN"
      ],
      "metadata": {
        "id": "28drwy0EnkJl"
      }
    },
    {
      "cell_type": "markdown",
      "source": [
        "Mạng nơ-ron hồi quy (RNN - Recurrent Neural Network) là một thuật toán được chú ý rất nhiều trong thời gian gần đây bởi các kết quả tốt thu được trong lĩnh vực xử lý ngôn ngữ tự nhiên.\n",
        "\n",
        "Ý tưởng chính của RNN (Recurrent Neural Network) là sử dụng chuỗi các thông tin. Trong các mạng nơ-ron truyền thống tất cả các đầu vào và cả đầu ra là độc lập với nhau. Tức là chúng không liên kết thành chuỗi với nhau. Cứ 1 mẫu dữ liệu thì giữa các features, thứ tự của các feature không có ảnh hưởng đến kết quả đầu ra. Nhưng với mạng RNN, các features sẽ xâu chuỗi lại với nhau theo đúng thứ tự.\n",
        "\n",
        "RNN được gọi là hồi quy (Recurrent) bởi lẽ chúng thực hiện cùng một tác vụ cho tất cả các phần tử của một chuỗi với đầu ra phụ thuộc vào cả các phép tính trước đó. Nói cách khác, RNN có khả năng nhớ các thông tin được tính toán trước đó. Trên lý thuyết, RNN có thể sử dụng được thông tin của một văn bản rất dài, tuy nhiên thực tế thì nó chỉ có thể nhớ được một vài bước trước đó mà thôi.\n",
        "\n",
        "![RNN_arc_1.png](data:image/png;base64,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)\n",
        "\n",
        "Basic many-to-one RNN.\n",
        "\n",
        "RNN về cơ bản hoạt động như một máy tích hợp và được sử dụng theo kiểu many-to-one.\n",
        "\n",
        "Bỏ qua định luật trọng lực và không đề cập đến định luật thứ hai của nhiệt động lực học, không có gì ngăn cản chúng ta xem vấn đề như mưa bay lên từ các máy đo mưa trên mặt đất và tự hoàn nguyên như những đám mây. Do đó, chúng tôi có thể giới thiệu một hướng ngược lại và xem xét một RNN hai chiều:\n",
        "\n",
        "![RNN_arc_2.png](data:image/png;base64,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)\n",
        "\n",
        "\n",
        "Một lớp kiến trúc riêng biệt tưởng tượng các yếu tố dự đoán nằm trên chiều thời gian ở đầu mạng, mỗi yếu tố có một cái nhìn duy nhất về quá khứ và tương lai. Trong trường hợp này, chúng tôi gộp các kết quả đầu ra từ toàn bộ các hidden layer lại với nhau để có được dự đoán đồng thuận:\n",
        "\n",
        "![RNN_arc_3.png](data:image/png;base64,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)\n",
        "\n",
        "Cuối cùng, có tất cả các cách cải tiến mà người ta có thể sử dụng để tạo ra một deep network, chẳng hạn như xếp chồng và chèn các lớp dense giữa các ngăn xếp và ở đầu mạng. Ngoài những thứ này, tác giả đã bao gồm một lớp tuyến tính để giảm kích thước của các vectơ đặc trưng từ 22 xuống 16, một phần để bảo vệ khỏi việc overfitting và một phần do các mô hình bắt đầu mất quá nhiều thời gian để training:\n",
        "\n",
        "![RNN_arc_4.png](data:image/png;base64,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)\n",
        "\n",
        "Deep RNN hai ngăn xếp. Các con số màu đỏ cho biết số lượng đơn vị trong mỗi lớp. Mô hình phù hợp nhất trong cuộc thi là phiên bản sâu năm ngăn xếp của kiến trúc trên với số lượng đơn vị từ dưới lên trên là (64, 128, 256, 128, 64).\n",
        "\n",
        "Kiến trúc hoạt động tốt nhất mà tác giả tìm thấy trong cuộc thi là RNN hai chiều xếp chồng sâu 5 lớp với 64-256 hidden node, với một lớp dense bổ sung sau mỗi ngăn xếp ẩn. \n",
        "\n",
        "\n"
      ],
      "metadata": {
        "id": "vFaZrJPQnoLI"
      }
    },
    {
      "cell_type": "markdown",
      "source": [
        "#### Chạy mô hình LSTM \n"
      ],
      "metadata": {
        "id": "nNfVkH6C2OIZ"
      }
    },
    {
      "cell_type": "markdown",
      "source": [
        "##### Chuẩn bị "
      ],
      "metadata": {
        "id": "2LIyOM5A6Wer"
      }
    },
    {
      "cell_type": "markdown",
      "source": [
        "Import các layer để xây dựng mạng LSTM"
      ],
      "metadata": {
        "id": "RuStbUFa6_8n"
      }
    },
    {
      "cell_type": "code",
      "source": [
        "from keras.layers import (\n",
        "    Input,\n",
        "    Dense,\n",
        "    LSTM,\n",
        "    AveragePooling1D,\n",
        "    TimeDistributed,\n",
        "    Flatten,\n",
        "    Bidirectional,\n",
        "    Dropout\n",
        ")\n",
        "from keras.models import Model"
      ],
      "metadata": {
        "id": "vB8Z7YXQ2JmT"
      },
      "execution_count": null,
      "outputs": []
    },
    {
      "cell_type": "code",
      "source": [
        "from keras.callbacks import EarlyStopping, ReduceLROnPlateau\n",
        "# Dừng training khi model training không hiệu quả\n",
        "early_stopping = EarlyStopping(monitor='val_loss', min_delta=0, patience=5)\n",
        "# Giảm tốc độ training khi metric không cải thiện \n",
        "reduce_lr = ReduceLROnPlateau(monitor='val_loss', factor=0.1, patience=3, min_delta=0.01)"
      ],
      "metadata": {
        "id": "SeA-JABJ2K5x"
      },
      "execution_count": null,
      "outputs": []
    },
    {
      "cell_type": "code",
      "source": [
        "# số lượng sample trong một lần train \n",
        "BATCH_SIZE = 1024\n",
        "# số lần train toàn bộ tập train \n",
        "N_EPOCHS = 30"
      ],
      "metadata": {
        "id": "10iG8qJ52MMW"
      },
      "execution_count": null,
      "outputs": []
    },
    {
      "cell_type": "markdown",
      "source": [
        "##### Xây dựng mô hình"
      ],
      "metadata": {
        "id": "FbHChRMv0Qh4"
      }
    },
    {
      "cell_type": "markdown",
      "source": [
        "LSTM (Long Short-Term Memory) thể hiện được sự ưu việt ở điểm có thể nhớ được nhiều bước hơn mô hình RNN truyền thống. Nhưng bạn không cần phải quá lo lắng vì LSTM về cơ bản giống với cấu trúc của RNN truyền thống, chúng chỉ khác nhau ở cách tính toán của các nút ẩn. \n",
        "\n",
        "I actually started out with Long-Short Term Memory (LSTM) units but, in order to reduce the training time, switched to ordinary RNNs with fully connected layers, which turned out to be just as effective. My guess is that the advantages of LSTMs are only really apparent for much longer sequences than the radar sequences in this competition."
      ],
      "metadata": {
        "id": "Fo6TdDyQzPVm"
      }
    },
    {
      "cell_type": "code",
      "source": [
        "# build neutron network\n",
        "def get_model_deep(shape=(19, 22)):\n",
        "    # Lớp đầu vào nhận ma trận kích thước 19*22\n",
        "    inp = Input(shape)\n",
        "    # Lớp giảm số lượng feature xuống 16 để giảm thời gian training \n",
        "    x = Dense(16)(inp)\n",
        "    # Mạng LSTM 2 chiều 64 node ẩn\n",
        "    x = Bidirectional(LSTM(64, return_sequences=True))(x)\n",
        "    # This wrapper allows to apply a layer to every temporal slice of an input.\n",
        "    x = TimeDistributed(Dense(64))(x)\n",
        "    # Mạng LSTM 2 chiều 128 node ẩn\n",
        "    x = Bidirectional(LSTM(128, return_sequences=True))(x)\n",
        "    # This wrapper allows to apply a layer to every temporal slice of an input.\n",
        "    x = TimeDistributed(Dense(1))(x)\n",
        "    # Average pooling for temporal data\n",
        "    x = AveragePooling1D()(x)\n",
        "    # Làm phằng đầu vào. Biến ma trận thành vector 1 chiều \n",
        "    x = Flatten()(x)\n",
        "    # dropout là quá trình loại bỏ tạm thời một nơ-ron khỏi quá trình training, quá trình này sẽ làm thay đổi weight khác so với bình thường. \n",
        "    x = Dropout(0.5)(x)\n",
        "    # Just your regular densely-connected NN layer. (linear activation)\n",
        "    x = Dense(1)(x)\n",
        "\n",
        "    model = Model(inp, x)\n",
        "    return model"
      ],
      "metadata": {
        "id": "tMx0Xvxj2PcN"
      },
      "execution_count": null,
      "outputs": []
    },
    {
      "cell_type": "code",
      "source": [
        "model = get_model_deep((19,22))\n",
        "# Adam optimizer được sử dụng nhiều hơn cả do khả năng hội tụ nhanh của nó.\n",
        "# MAE là một loss function được sử dụng cho các mô hình hồi quy, \n",
        "model.compile(optimizer='adam', loss='mae',)\n",
        "model.summary()"
      ],
      "metadata": {
        "colab": {
          "base_uri": "https://localhost:8080/"
        },
        "id": "Po0f7PKg2Q-3",
        "outputId": "3d21447b-13c0-4373-bf68-2689a483526a"
      },
      "execution_count": null,
      "outputs": [
        {
          "output_type": "stream",
          "name": "stdout",
          "text": [
            "Model: \"model\"\n",
            "_________________________________________________________________\n",
            " Layer (type)                Output Shape              Param #   \n",
            "=================================================================\n",
            " input_1 (InputLayer)        [(None, 19, 22)]          0         \n",
            "                                                                 \n",
            " dense (Dense)               (None, 19, 16)            368       \n",
            "                                                                 \n",
            " bidirectional (Bidirectiona  (None, 19, 128)          41472     \n",
            " l)                                                              \n",
            "                                                                 \n",
            " time_distributed (TimeDistr  (None, 19, 64)           8256      \n",
            " ibuted)                                                         \n",
            "                                                                 \n",
            " bidirectional_1 (Bidirectio  (None, 19, 256)          197632    \n",
            " nal)                                                            \n",
            "                                                                 \n",
            " time_distributed_1 (TimeDis  (None, 19, 1)            257       \n",
            " tributed)                                                       \n",
            "                                                                 \n",
            " average_pooling1d (AverageP  (None, 9, 1)             0         \n",
            " ooling1D)                                                       \n",
            "                                                                 \n",
            " flatten (Flatten)           (None, 9)                 0         \n",
            "                                                                 \n",
            " dropout (Dropout)           (None, 9)                 0         \n",
            "                                                                 \n",
            " dense_3 (Dense)             (None, 1)                 10        \n",
            "                                                                 \n",
            "=================================================================\n",
            "Total params: 247,995\n",
            "Trainable params: 247,995\n",
            "Non-trainable params: 0\n",
            "_________________________________________________________________\n"
          ]
        }
      ]
    },
    {
      "cell_type": "markdown",
      "source": [
        "##### Huấn luyện mô hình"
      ],
      "metadata": {
        "id": "QBkY7uHc0avG"
      }
    },
    {
      "cell_type": "code",
      "source": [
        "model.fit(X_train, y_train, \n",
        "            batch_size=BATCH_SIZE, epochs=N_EPOCHS, \n",
        "            validation_split=0.2, callbacks=[early_stopping, reduce_lr])"
      ],
      "metadata": {
        "colab": {
          "base_uri": "https://localhost:8080/"
        },
        "id": "FCJCYXn82Scb",
        "outputId": "2b5488f5-7975-4d58-f06a-caf802267c28"
      },
      "execution_count": null,
      "outputs": [
        {
          "output_type": "stream",
          "name": "stdout",
          "text": [
            "Epoch 1/30\n",
            "559/559 [==============================] - 606s 1s/step - loss: 2.5500 - val_loss: 2.4807 - lr: 0.0010\n",
            "Epoch 2/30\n",
            "559/559 [==============================] - 587s 1s/step - loss: 2.4373 - val_loss: 2.4681 - lr: 0.0010\n",
            "Epoch 3/30\n",
            "559/559 [==============================] - 593s 1s/step - loss: 2.4173 - val_loss: 2.4511 - lr: 0.0010\n",
            "Epoch 4/30\n",
            "559/559 [==============================] - 588s 1s/step - loss: 2.4013 - val_loss: 2.4425 - lr: 0.0010\n",
            "Epoch 5/30\n",
            "559/559 [==============================] - 587s 1s/step - loss: 2.3923 - val_loss: 2.4307 - lr: 0.0010\n",
            "Epoch 6/30\n",
            "559/559 [==============================] - 586s 1s/step - loss: 2.3912 - val_loss: 2.4398 - lr: 0.0010\n",
            "Epoch 7/30\n",
            "559/559 [==============================] - 591s 1s/step - loss: 2.3877 - val_loss: 2.4284 - lr: 0.0010\n",
            "Epoch 8/30\n",
            "559/559 [==============================] - 590s 1s/step - loss: 2.3814 - val_loss: 2.4287 - lr: 0.0010\n",
            "Epoch 9/30\n",
            "559/559 [==============================] - 588s 1s/step - loss: 2.3592 - val_loss: 2.4200 - lr: 1.0000e-04\n",
            "Epoch 10/30\n",
            "559/559 [==============================] - 589s 1s/step - loss: 2.3552 - val_loss: 2.4131 - lr: 1.0000e-04\n",
            "Epoch 11/30\n",
            "559/559 [==============================] - 581s 1s/step - loss: 2.3529 - val_loss: 2.4121 - lr: 1.0000e-04\n",
            "Epoch 12/30\n",
            "559/559 [==============================] - 582s 1s/step - loss: 2.3524 - val_loss: 2.4125 - lr: 1.0000e-04\n",
            "Epoch 13/30\n",
            "559/559 [==============================] - 588s 1s/step - loss: 2.3453 - val_loss: 2.4137 - lr: 1.0000e-05\n",
            "Epoch 14/30\n",
            "559/559 [==============================] - 580s 1s/step - loss: 2.3453 - val_loss: 2.4118 - lr: 1.0000e-05\n",
            "Epoch 15/30\n",
            "559/559 [==============================] - 583s 1s/step - loss: 2.3478 - val_loss: 2.4125 - lr: 1.0000e-05\n",
            "Epoch 16/30\n",
            "559/559 [==============================] - 581s 1s/step - loss: 2.3471 - val_loss: 2.4115 - lr: 1.0000e-06\n",
            "Epoch 17/30\n",
            "559/559 [==============================] - 575s 1s/step - loss: 2.3462 - val_loss: 2.4117 - lr: 1.0000e-06\n",
            "Epoch 18/30\n",
            "559/559 [==============================] - 578s 1s/step - loss: 2.3446 - val_loss: 2.4110 - lr: 1.0000e-06\n",
            "Epoch 19/30\n",
            "559/559 [==============================] - 577s 1s/step - loss: 2.3451 - val_loss: 2.4111 - lr: 1.0000e-07\n",
            "Epoch 20/30\n",
            "559/559 [==============================] - 575s 1s/step - loss: 2.3461 - val_loss: 2.4111 - lr: 1.0000e-07\n",
            "Epoch 21/30\n",
            "559/559 [==============================] - 580s 1s/step - loss: 2.3444 - val_loss: 2.4111 - lr: 1.0000e-07\n",
            "Epoch 22/30\n",
            "559/559 [==============================] - 580s 1s/step - loss: 2.3452 - val_loss: 2.4111 - lr: 1.0000e-08\n",
            "Epoch 23/30\n",
            "559/559 [==============================] - 576s 1s/step - loss: 2.3450 - val_loss: 2.4111 - lr: 1.0000e-08\n"
          ]
        },
        {
          "output_type": "execute_result",
          "data": {
            "text/plain": [
              "<keras.callbacks.History at 0x7f4df1142590>"
            ]
          },
          "metadata": {},
          "execution_count": 36
        }
      ]
    },
    {
      "cell_type": "markdown",
      "source": [
        "##### Dự đoán tập test"
      ],
      "metadata": {
        "id": "m1lCnyPn-iYz"
      }
    },
    {
      "cell_type": "code",
      "source": [
        "y_pred = model.predict(X_test, batch_size=BATCH_SIZE)\n",
        "submission = pd.DataFrame({'Id': test_ids, 'Expected': y_pred.reshape(-1)})\n",
        "submission.to_csv('submission.csv', index=False)"
      ],
      "metadata": {
        "id": "PyyXGP9J2Twz"
      },
      "execution_count": null,
      "outputs": []
    },
    {
      "cell_type": "markdown",
      "source": [
        "## Nhìn lại quá trình làm đồ án"
      ],
      "metadata": {
        "id": "BbOZGOGVjnlj"
      }
    },
    {
      "cell_type": "markdown",
      "source": [
        "- Nhóm em gặp nhiều khó khăn như chỉnh sửa lại source code để có thể chạy được, kích thước dữ liệu khá lớn gây khó khăn trong việc đọc, giải pháp của tác giả bằng tiếng anh có nhiều chỗ khó hiểu và quá trình training lâu, dễ bị ngắt giữa chừng.\n",
        "- Qua đồ án này, nhóm em học thêm được nhiều về mạng neuron nhân tạo, mạng RNN và LSTM, cách chúng nhận đầu vào, đi qua các hidden node, cách xử lí và đưa ra kết quả cuối cùng. \n",
        "- Nếu có thêm thời gian, nhóm sẽ cài đặt lại phương án hoàn chỉnh của tác giả."
      ],
      "metadata": {
        "id": "CHkHYru6jvm8"
      }
    },
    {
      "cell_type": "markdown",
      "source": [
        "## Tài liệu tham khảo"
      ],
      "metadata": {
        "id": "YAbi0xujjwDA"
      }
    },
    {
      "cell_type": "markdown",
      "source": [
        "[link1](https://www.google.com/url?sa=t&rct=j&q=&esrc=s&source=web&cd=&cad=rja&uact=8&ved=2ahUKEwiM973N1tT4AhUuqVYBHX5_CBwQFnoECAkQAQ&url=https%3A%2F%2Fviblo.asia%2Fp%2Frecurrent-neural-network-tu-rnn-den-lstm-gGJ597z1ZX2&usg=AOvVaw1Huk9g8-E6D-LEk5SmYZxh)\n",
        "[link2](https://www.google.com/url?sa=t&rct=j&q=&esrc=s&source=web&cd=&cad=rja&uact=8&ved=2ahUKEwiM973N1tT4AhUuqVYBHX5_CBwQFnoECAYQAQ&url=https%3A%2F%2Fnttuan8.com%2Fbai-14-long-short-term-memory-lstm%2F&usg=AOvVaw0PzASEWVObqTDPYaRbaa8R)\n",
        "[link3](https://www.google.com/url?sa=t&rct=j&q=&esrc=s&source=web&cd=&cad=rja&uact=8&ved=2ahUKEwiM973N1tT4AhUuqVYBHX5_CBwQFnoECC4QAQ&url=https%3A%2F%2Fdominhhai.github.io%2Fvi%2F2017%2F10%2Fwhat-is-lstm%2F&usg=AOvVaw3N-HHt0PliN7K6_9jayIei)\n",
        "[link4](https://www.google.com/url?sa=t&rct=j&q=&esrc=s&source=web&cd=&cad=rja&uact=8&ved=2ahUKEwiM973N1tT4AhUuqVYBHX5_CBwQFnoECB0QAQ&url=https%3A%2F%2Fwww.noron.vn%2Fpost%2Fnhung-cai-tien-cua-mang-lstm-so-voi-mang-rnn-la-gi-1494wdz4y74jn&usg=AOvVaw1sP2WpgHLCUOB3zicNH-fm)"
      ],
      "metadata": {
        "id": "v9SxSQekj0kg"
      }
    }
  ],
  "metadata": {
    "colab": {
      "collapsed_sections": [
        "DStxljySi1jg",
        "GegR9pFuIi0X",
        "QxrPUqC5XPWB",
        "0cCVovqYXgiZ",
        "zQ8qwMzrTnRM",
        "3W1s-lOIgoye",
        "q0Wh6G6vQ8Qe",
        "yCj6oXV5fcbn",
        "v6AwU6oifgRF",
        "yyExSWj6fnE0",
        "axD_bE1Mkl5J",
        "MC5Od1rx1sNE",
        "UytFrtUnbQ5M",
        "fcp4L7UzaHUN",
        "KRT7xVinadyb",
        "laBVIEhCarsr",
        "0PgOUKV6dS6s",
        "sRZmVfQ62EiS",
        "YvPr4U5UrIZQ",
        "BbOZGOGVjnlj"
      ],
      "name": "Report_KHDLUD_NHOM1.ipynb",
      "provenance": [],
      "toc_visible": true,
      "include_colab_link": true
    },
    "kernelspec": {
      "display_name": "Python 3",
      "name": "python3"
    },
    "language_info": {
      "name": "python"
    }
  },
  "nbformat": 4,
  "nbformat_minor": 0
}