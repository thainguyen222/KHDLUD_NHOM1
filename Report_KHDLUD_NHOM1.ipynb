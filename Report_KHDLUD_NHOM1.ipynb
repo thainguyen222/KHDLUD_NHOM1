{
  "nbformat": 4,
  "nbformat_minor": 0,
  "metadata": {
    "colab": {
      "name": "Report_KHDLUD_NHOM1.ipynb",
      "provenance": [],
      "collapsed_sections": [],
      "toc_visible": true,
      "include_colab_link": true
    },
    "kernelspec": {
      "name": "python3",
      "display_name": "Python 3"
    },
    "language_info": {
      "name": "python"
    }
  },
  "cells": [
    {
      "cell_type": "markdown",
      "metadata": {
        "id": "view-in-github",
        "colab_type": "text"
      },
      "source": [
        "<a href=\"https://colab.research.google.com/github/thainguyen222/KHDLUD_NHOM1/blob/main/Report_KHDLUD_NHOM1.ipynb\" target=\"_parent\"><img src=\"https://colab.research.google.com/assets/colab-badge.svg\" alt=\"Open In Colab\"/></a>"
      ]
    },
    {
      "cell_type": "markdown",
      "source": [
        "# Báo cáo đồ án môn \"Khoa học dữ liệu ứng dụng\"\n",
        "\n"
      ],
      "metadata": {
        "id": "pk6wgYYFG1bS"
      }
    },
    {
      "cell_type": "markdown",
      "source": [
        "Nhóm 1:\n",
        "1. 1612571 - Trần Tiến Sỹ - AllenAlexander98\n",
        "2. 1612607 - Nguyễn Quang Thái - thainguyen222\n",
        "3. 18120228\t- Huỳnh Nhựt Quang - huynhnhutquang7\n",
        "\n",
        "Link thùng chứa Github của nhóm: https://github.com/thainguyen222/KHDLUD_NHOM1"
      ],
      "metadata": {
        "id": "klnVHLYiLZMz"
      }
    },
    {
      "cell_type": "markdown",
      "source": [
        "# Mô tả bài toán"
      ],
      "metadata": {
        "id": "FFBFXoMKKnww"
      }
    },
    {
      "cell_type": "markdown",
      "source": [
        "**Giới Thiệu Bài Toán**\n",
        "\n",
        "  Bài toán dự đoán về khả năng xuất hiện và vị trí của chủng Virus West Nile của vật truyền trung gian là muỗi, dựa trên các số liệu thu thập được ở Chicago, USA.\n",
        "\n",
        "https://www.kaggle.com/competitions/predict-west-nile-virus/\n",
        "\n",
        "  Virus West Nile là một chủng virus nguy hiểm, có thể gây sốt, ảnh hưởng đến thần kinh có thể dẫn đến tử vong. Lần đầu một ca bệnh được báo cáo ở Chicago năm 2002. Đến năm 2004 , Chicago thành lập the Chicago Department of Public Health (CDPH) nhằm mục đích giám sát và kiểm soát dịch bệnh này. Hằng tuần, các bẫy bắt muỗi sẽ được xét nghiệm kiểm tra, nơi nào có nhiều muỗi có bệnh sẽ được phun xịt thuốc. Cuộc thi này được tài trợ bởi the Robert Wood Johnson Foundation.Dữ liệu được cung cấp bởi the Chicago Department of Public Health. Từ các dữ liệu thời tiết , testing , vị trí và dữ liệu về phun xịt thuốc, dự đoán thời gian nào và ở đâu sẽ có muỗi chứa mầm bệnh.\n"
      ],
      "metadata": {
        "id": "N6Owv-Z3KuTu"
      }
    },
    {
      "cell_type": "markdown",
      "source": [
        "# Mô tả dữ liệu \n",
        "Trong cuộc thi này, nhóm sẽ phân tích dữ liệu thời tiết và dữ liệu phun thuốc và dự đoán có hay không vi rút Virus West Nile trong một thời điểm, vị trí và giống loài muỗi nhất định.\n",
        "\n",
        "Hàng năm, từ cuối tháng 5 đến đầu tháng 10, các nhân viên y tế cộng đồng ở Chicago sẽ đặt các bẫy muỗi rải rác khắp nơi trong thành phố. Hàng tuần, từ thứ Hai đến thứ Tư, những chiếc bẫy này thu thập muỗi và những con muỗi này sẽ được kiểm tra xem có mắc Virus West Nile không. Các kết quả kiểm tra bao gồm số lượng muỗi, loài muỗi, và có hay không những con muôĩ mắc virus West Nile.\n",
        "\n",
        "**Main dataset**\n",
        "\n",
        "Các dòng trong dữ liệu gọi là các record. Các record đại diện cho một lần kiểm tra đối với một giống loài nhất định. Nếu số lượng muỗi trong record vượt quá 50 thì sẽ tách ra thành một record riêng biệt.\n",
        "\n",
        "Vị trí của các bẫy được mô tả bằng số block và tên đường. Để thuận tiện, địa chỉ cũng đã được ánh xạ thành kinh độ và vĩ độ trong tập dữ liệu. \n",
        "\n",
        "Một số bẫy gọi là bẫy vệ tinh được đặt xung quanh một cái bẫy khác để nâng cao khả năng giám sát (có hậu tố trong id là một chữ cái). \n",
        "\n",
        "**Spray dataset**\n",
        "\n",
        "Thành phố Chicago cũng phun thuốc diệt muỗi. Chúng ta có dữ liệu những lần phun thuốc của họ trong năm 2011 và 2013. Việc phun thuốc có thể làm giảm số lượng muỗi trong khu vực và do đó có thể loại bỏ sự xuất hiện của virus West Nile.\n",
        "\n",
        "**Weather Data**\n",
        "\n",
        "Người ta tin rằng điều kiện nóng và khô thuận lợi hơn cho virus West Nile phát triển hơn là lạnh và ẩm ướt. Chúng ta có tập dữ liệu từ NOAA về các điều kiện thời tiết của năm 2007 đến năm 2014, trong các tháng thử nghiệm. \n",
        "\n"
      ],
      "metadata": {
        "id": "fHZx7te1vBaw"
      }
    },
    {
      "cell_type": "markdown",
      "source": [
        "# Mô tả file \n",
        "**train.csv, test.csv** \n",
        "\n",
        "Tập trainning bao gồm dữ liệu các năm 2007, 2009, 2011 và 2013, trong khi đó tập test yêu cầu dự đoán kết quả cho các năm 2008, 2010, 2012, and 2014.\n",
        "\n",
        "- Id: id của record\n",
        "- Date: ngày kiểm tra virus \n",
        "- Address: Địa chỉ gần nơi đặt bẫy\n",
        "- Species: giống loài muỗi\n",
        "- Block: số block của địa chỉ\n",
        "- Street: tên đường\n",
        "- Trap: Id của bẫy\n",
        "- AddressNumberAndStreet: số nhà và tên đường\n",
        "- Latitude, Longitude: vĩ độ, kinh độ đặt bẫy\n",
        "- AddressAccuracy: độ chính xác của địa chỉ \n",
        "- NumMosquitos: số lượng muỗi trong một record \n",
        "- WnvPresent: có hay không muỗi nhiễm virus trong record này. 1 là có, và 0 là không.\n",
        "\n",
        "**spray.csv**\n",
        "\n",
        "Dữ liệu phun thuốc trong năm 2011 và 2013\n",
        "- Date, Time: ngày và giờ phun thuốc\n",
        "- Latitude, Longitude: vĩ độ và kinh độ địa điểm phun thuốc\n",
        "\n",
        "**weather.csv**\n",
        "\n",
        "Dữ liệu thời tiết từ năm 2007 tới 2014. Các cột được mô tả trong [link](https://github.com/diefimov/west_nile_virus_2015/blob/master/data/input/noaa_weather_qclcd_documentation.pdf)\n",
        "\n",
        "**sampleSubmission.csv**\n",
        "\n",
        "File mẫu để nộp lên Kaggle\n",
        "- Id: id của record\n",
        "- WnvPresent: có hay không muỗi nhiễm virus trong record này \n"
      ],
      "metadata": {
        "id": "4MT9TR8O7nAD"
      }
    },
    {
      "cell_type": "markdown",
      "source": [
        "# Giải quyết bài toán"
      ],
      "metadata": {
        "id": "J6v0ngGJLdES"
      }
    },
    {
      "cell_type": "markdown",
      "source": [
        "Trong đồ án này, nhóm tìm hiểu và cài đặt lại một phương pháp giải quyết đã có (phương pháp đứng thứ hai trong leaderboard và [link](https://github.com/diefimov/west_nile_virus_2015)) của 2 tác giả Dimitry Efimov và Leustagos. \n",
        "\n",
        "Qua quá trình tìm hiểu đồ án, nhóm em quyết định giải quyết bài toán với 2 thuật toán dựa trên Decision Tree:\n",
        "1.\tGradient Boosting Classification Decision trees\n",
        "2.\tRegularized Greedy Forest\n",
        "\n",
        "Điều đáng chú ý là các phương pháp khác chẳng hạn như Random Forest Classifier, Generalized Linear Methods, ExtraTrees cho thấy kết quả tốt nhưng không cải thiện được phần phối hợp cuối cùng. Ngoài ra, mô hình Single Regularized Greedy Forest cho độ chính xác rất tốt, đủ để giữ vị trí thứ hai trên bảng xếp hạng.\n",
        "\n",
        "Phương pháp giải quyết áp dụng cách làm mịn cho các dự đoán dựa trên những bẫy gần nhất và những ngày gần nhất. Khoảng cách Haversine đã được tính toán để tìm ra những cái bẫy gần nhất.\n",
        "\n",
        "Đối với các dự đoán của mô hình Gradient Boosting Classification từ 4 bẫy gần nhất, 3 ngày trước đó và 3 ngày trong tương lai đã được thêm vào tổ hợp tuyến tính có trọng số (bẫy gần hơn, ngày gần hơn, dự đoán có trọng số cao hơn). \n",
        "\n",
        "Đối với các dự đoán của mô hình Regularized Greedy Forest được quy định cho 6 bẫy gần nhất, 11 ngày trước đó và 7 ngày trong tương lai đã được thêm vào mức trung bình đơn giản, dự đoán ban đầu cho từng Bẫy, Loài, Ngày đã bị xóa khỏi mức trung bình này (chỉ trong mô hình RGF).\n",
        "\n",
        "\n"
      ],
      "metadata": {
        "id": "FvXebiKSLyek"
      }
    },
    {
      "cell_type": "markdown",
      "source": [
        "# Nhìn lại quá trình làm đồ án"
      ],
      "metadata": {
        "id": "HpRUAv3HLxxD"
      }
    },
    {
      "cell_type": "markdown",
      "source": [
        "Sau bao ngày vất vả làm đồ án thì bây giờ đã kết thúc. Bây giờ là lúc để ngồi uống coffee và tĩnh tâm nhìn lại quá trình làm.\n",
        "\n",
        "- Mỗi thành viên: Đã gặp những khó khăn gì? (Hay mọi chuyện đều thuận lợi)\n",
        "- Mỗi thành viên: Có học được gì hữu ích? (Hay không học được gì)\n",
        "- Nhóm: Nếu có thêm thời gian thì sẽ làm gì?\n",
        "\n",
        "Phần này có sao thì bạn nói vậy thôi, chứ không phải là viết cho có, hoặc tự chế ra để nghe cho hay.\n"
      ],
      "metadata": {
        "id": "JP_Z9DoRL2UR"
      }
    },
    {
      "cell_type": "markdown",
      "source": [
        "# Tài liệu tham khảo"
      ],
      "metadata": {
        "id": "0r2gg8nTL3Aj"
      }
    },
    {
      "cell_type": "markdown",
      "source": [
        "Để hoàn thành đồ án này, nhóm bạn đã tham khảo những tài liệu nào?"
      ],
      "metadata": {
        "id": "p1QGBQhqL9Vb"
      }
    }
  ]
}